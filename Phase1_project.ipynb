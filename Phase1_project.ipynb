{
 "cells": [
  {
   "cell_type": "markdown",
   "metadata": {},
   "source": [
    "#  INTODUCTION"
   ]
  },
  {
   "cell_type": "markdown",
   "metadata": {},
   "source": [
    "Hello.In this notebook we will be carrying out the phase one project.We shall be analysing various movie datasets so that we can be able to help microsoft create their new movie studio. <br>\n",
    "\n",
    "**Our objectives is to <br>**:\n",
    "  <font color=green>\n",
    "  a)Get various movie datasets<br>\n",
    "                         b)Clean the data<br>\n",
    "                        c)Explore the data<br>\n",
    "                         d)Analyze tha data<br>\n",
    "                         e)Come up with findings from our analysis that can be used by Microsoft to create their studio<br>\n",
    "                       \n",
    "            \n",
    "                        \n",
    " **this lab the various datasets we shall use include:<br>**\n",
    "     <font color=purple>\n",
    "                                                        a)tn.movie_budgets.csv<br>\n",
    "                                                        b)tmdb.movies.csv<br>\n",
    "                                                        c)rt.reviews.tsv<br>\n",
    "                                                        d)rt.movie_info.tsv<br>\n",
    "                                                        e)imdb.title.ratings.csv<br>\n",
    "                                                        f)imdb.title.basics.csv<br>\n",
    "          </font>\n",
    "                                                        \n",
    "   \n",
    "                        \n",
    "All these datasets are available in the zipped folder  \n",
    "We shall  be using as much data as possible so that we can get as much findings as we can \n",
    "    "
   ]
  },
  {
   "cell_type": "markdown",
   "metadata": {},
   "source": [
    "# BUSINESS UNDERSTANDING"
   ]
  },
  {
   "cell_type": "markdown",
   "metadata": {},
   "source": [
    "\n",
    "<font color = blue> Many entartainment companies like Paramount,Warnerbros,WaltDisney Productions and many more have been able to create their movies using in their studios, this has become a very lucarative business and is high on demand<br></font><br>\n",
    "**The Business problems  <br>** <hr>\n",
    "  Microsoft company wants to start their own studio and make their own movies ,in order to do that they need to have some knowledge about the movie studios so that they can start their own studio .<br>\n",
    "  <font color = purple>\n",
    " **The knowledge microsoft might need for their new studio: <br>**\n",
    "a)They have no knowledge of  how much money they need to set aside for the production of their movies<br>\n",
    "b)They have no knowledge of  the movie genre  that sell the most<br>\n",
    "c)To know if the popularity of a movie affects the average vote of the movie<br>\n",
    "d)To find out the average amount of profit or loss a movie could have both in the country and worldwide<br>\n",
    "e)To know if the production budget for a movie affects the domestic gross and worldwide gross<br>\n",
    "f)To find out the type of movie rating they should produce more\n",
    "</font>\n",
    "   \n",
    "**Our approach to the business problems<br>**<hr>\n",
    "<font color = green>\n",
    "a)Find out the profit the average amount of money they need to set aside for their budget of production<br>\n",
    "b)Find out the genre of movies that they sell most\n",
    "c)Find out from our sample data the  amount of profit or loss they could get worldwide and domestically from their studio<br>\n",
    "d)Find out the correlation between popularity and average vote\n",
    "e)Finding the correlation between production budget ,doemstic_gross and worldwide_gross\n",
    "f)Find out the mivie rating with the highest value count\n",
    "  \n"
   ]
  },
  {
   "cell_type": "markdown",
   "metadata": {},
   "source": [
    "## Now lets start our analysis"
   ]
  },
  {
   "cell_type": "markdown",
   "metadata": {},
   "source": [
    "####  1)Lets start by importing libraries"
   ]
  },
  {
   "cell_type": "code",
   "execution_count": 1,
   "metadata": {},
   "outputs": [],
   "source": [
    "### First we will start by importing the relevant imports needed\n",
    "### We don't have to import all of the libraries at once we can import the basic ones now and add themas we progress in the lab\n",
    "import pandas as pd\n",
    "import csv\n",
    "import numpy as np\n",
    "import seaborn as sns\n",
    "import matplotlib.pyplot as plt\n",
    "%matplotlib inline"
   ]
  },
  {
   "cell_type": "markdown",
   "metadata": {},
   "source": [
    "# lets read the data and clean the datasets\n"
   ]
  },
  {
   "cell_type": "markdown",
   "metadata": {},
   "source": [
    "## 1) we will read the first dataset "
   ]
  },
  {
   "cell_type": "markdown",
   "metadata": {},
   "source": [
    "<font color=green> We will load our '*tn.movie_budgets.csv*' in the **pandas.read_csv** and store it in a variable movie_budgets.\n",
    "We will describe the dataset,find it's shape, find if it has missing values, duplicated values or outliers.If the data has the misiing values,duplicates and outliers then we will clean the data</font>"
   ]
  },
  {
   "cell_type": "markdown",
   "metadata": {},
   "source": [
    "##### a) Reading imdb.title.basics.csv"
   ]
  },
  {
   "cell_type": "code",
   "execution_count": 2,
   "metadata": {
    "scrolled": true
   },
   "outputs": [
    {
     "data": {
      "text/html": [
       "<div>\n",
       "<style scoped>\n",
       "    .dataframe tbody tr th:only-of-type {\n",
       "        vertical-align: middle;\n",
       "    }\n",
       "\n",
       "    .dataframe tbody tr th {\n",
       "        vertical-align: top;\n",
       "    }\n",
       "\n",
       "    .dataframe thead th {\n",
       "        text-align: right;\n",
       "    }\n",
       "</style>\n",
       "<table border=\"1\" class=\"dataframe\">\n",
       "  <thead>\n",
       "    <tr style=\"text-align: right;\">\n",
       "      <th></th>\n",
       "      <th>tconst</th>\n",
       "      <th>primary_title</th>\n",
       "      <th>original_title</th>\n",
       "      <th>start_year</th>\n",
       "      <th>runtime_minutes</th>\n",
       "      <th>genres</th>\n",
       "    </tr>\n",
       "  </thead>\n",
       "  <tbody>\n",
       "    <tr>\n",
       "      <th>0</th>\n",
       "      <td>tt0063540</td>\n",
       "      <td>Sunghursh</td>\n",
       "      <td>Sunghursh</td>\n",
       "      <td>2013</td>\n",
       "      <td>175.0</td>\n",
       "      <td>Action,Crime,Drama</td>\n",
       "    </tr>\n",
       "    <tr>\n",
       "      <th>1</th>\n",
       "      <td>tt0066787</td>\n",
       "      <td>One Day Before the Rainy Season</td>\n",
       "      <td>Ashad Ka Ek Din</td>\n",
       "      <td>2019</td>\n",
       "      <td>114.0</td>\n",
       "      <td>Biography,Drama</td>\n",
       "    </tr>\n",
       "    <tr>\n",
       "      <th>2</th>\n",
       "      <td>tt0069049</td>\n",
       "      <td>The Other Side of the Wind</td>\n",
       "      <td>The Other Side of the Wind</td>\n",
       "      <td>2018</td>\n",
       "      <td>122.0</td>\n",
       "      <td>Drama</td>\n",
       "    </tr>\n",
       "    <tr>\n",
       "      <th>3</th>\n",
       "      <td>tt0069204</td>\n",
       "      <td>Sabse Bada Sukh</td>\n",
       "      <td>Sabse Bada Sukh</td>\n",
       "      <td>2018</td>\n",
       "      <td>NaN</td>\n",
       "      <td>Comedy,Drama</td>\n",
       "    </tr>\n",
       "    <tr>\n",
       "      <th>4</th>\n",
       "      <td>tt0100275</td>\n",
       "      <td>The Wandering Soap Opera</td>\n",
       "      <td>La Telenovela Errante</td>\n",
       "      <td>2017</td>\n",
       "      <td>80.0</td>\n",
       "      <td>Comedy,Drama,Fantasy</td>\n",
       "    </tr>\n",
       "    <tr>\n",
       "      <th>...</th>\n",
       "      <td>...</td>\n",
       "      <td>...</td>\n",
       "      <td>...</td>\n",
       "      <td>...</td>\n",
       "      <td>...</td>\n",
       "      <td>...</td>\n",
       "    </tr>\n",
       "    <tr>\n",
       "      <th>146139</th>\n",
       "      <td>tt9916538</td>\n",
       "      <td>Kuambil Lagi Hatiku</td>\n",
       "      <td>Kuambil Lagi Hatiku</td>\n",
       "      <td>2019</td>\n",
       "      <td>123.0</td>\n",
       "      <td>Drama</td>\n",
       "    </tr>\n",
       "    <tr>\n",
       "      <th>146140</th>\n",
       "      <td>tt9916622</td>\n",
       "      <td>Rodolpho Teóphilo - O Legado de um Pioneiro</td>\n",
       "      <td>Rodolpho Teóphilo - O Legado de um Pioneiro</td>\n",
       "      <td>2015</td>\n",
       "      <td>NaN</td>\n",
       "      <td>Documentary</td>\n",
       "    </tr>\n",
       "    <tr>\n",
       "      <th>146141</th>\n",
       "      <td>tt9916706</td>\n",
       "      <td>Dankyavar Danka</td>\n",
       "      <td>Dankyavar Danka</td>\n",
       "      <td>2013</td>\n",
       "      <td>NaN</td>\n",
       "      <td>Comedy</td>\n",
       "    </tr>\n",
       "    <tr>\n",
       "      <th>146142</th>\n",
       "      <td>tt9916730</td>\n",
       "      <td>6 Gunn</td>\n",
       "      <td>6 Gunn</td>\n",
       "      <td>2017</td>\n",
       "      <td>116.0</td>\n",
       "      <td>NaN</td>\n",
       "    </tr>\n",
       "    <tr>\n",
       "      <th>146143</th>\n",
       "      <td>tt9916754</td>\n",
       "      <td>Chico Albuquerque - Revelações</td>\n",
       "      <td>Chico Albuquerque - Revelações</td>\n",
       "      <td>2013</td>\n",
       "      <td>NaN</td>\n",
       "      <td>Documentary</td>\n",
       "    </tr>\n",
       "  </tbody>\n",
       "</table>\n",
       "<p>146144 rows × 6 columns</p>\n",
       "</div>"
      ],
      "text/plain": [
       "           tconst                                primary_title  \\\n",
       "0       tt0063540                                    Sunghursh   \n",
       "1       tt0066787              One Day Before the Rainy Season   \n",
       "2       tt0069049                   The Other Side of the Wind   \n",
       "3       tt0069204                              Sabse Bada Sukh   \n",
       "4       tt0100275                     The Wandering Soap Opera   \n",
       "...           ...                                          ...   \n",
       "146139  tt9916538                          Kuambil Lagi Hatiku   \n",
       "146140  tt9916622  Rodolpho Teóphilo - O Legado de um Pioneiro   \n",
       "146141  tt9916706                              Dankyavar Danka   \n",
       "146142  tt9916730                                       6 Gunn   \n",
       "146143  tt9916754               Chico Albuquerque - Revelações   \n",
       "\n",
       "                                     original_title  start_year  \\\n",
       "0                                         Sunghursh        2013   \n",
       "1                                   Ashad Ka Ek Din        2019   \n",
       "2                        The Other Side of the Wind        2018   \n",
       "3                                   Sabse Bada Sukh        2018   \n",
       "4                             La Telenovela Errante        2017   \n",
       "...                                             ...         ...   \n",
       "146139                          Kuambil Lagi Hatiku        2019   \n",
       "146140  Rodolpho Teóphilo - O Legado de um Pioneiro        2015   \n",
       "146141                              Dankyavar Danka        2013   \n",
       "146142                                       6 Gunn        2017   \n",
       "146143               Chico Albuquerque - Revelações        2013   \n",
       "\n",
       "        runtime_minutes                genres  \n",
       "0                 175.0    Action,Crime,Drama  \n",
       "1                 114.0       Biography,Drama  \n",
       "2                 122.0                 Drama  \n",
       "3                   NaN          Comedy,Drama  \n",
       "4                  80.0  Comedy,Drama,Fantasy  \n",
       "...                 ...                   ...  \n",
       "146139            123.0                 Drama  \n",
       "146140              NaN           Documentary  \n",
       "146141              NaN                Comedy  \n",
       "146142            116.0                   NaN  \n",
       "146143              NaN           Documentary  \n",
       "\n",
       "[146144 rows x 6 columns]"
      ]
     },
     "execution_count": 2,
     "metadata": {},
     "output_type": "execute_result"
    }
   ],
   "source": [
    "### We then get the table with the genre and store it in a variable title_basics\n",
    "title_basics=pd.read_csv(r\"C:\\Users\\Hp\\Downloads\\imdb.title.basics.csv.gz\")\n",
    "title_basics"
   ]
  },
  {
   "cell_type": "code",
   "execution_count": 3,
   "metadata": {},
   "outputs": [
    {
     "data": {
      "text/plain": [
       "(146144, 6)"
      ]
     },
     "execution_count": 3,
     "metadata": {},
     "output_type": "execute_result"
    }
   ],
   "source": [
    "## This is to find the number of rows and columns in our data\n",
    "title_basics.shape"
   ]
  },
  {
   "cell_type": "code",
   "execution_count": 4,
   "metadata": {
    "scrolled": true
   },
   "outputs": [
    {
     "data": {
      "text/html": [
       "<div>\n",
       "<style scoped>\n",
       "    .dataframe tbody tr th:only-of-type {\n",
       "        vertical-align: middle;\n",
       "    }\n",
       "\n",
       "    .dataframe tbody tr th {\n",
       "        vertical-align: top;\n",
       "    }\n",
       "\n",
       "    .dataframe thead th {\n",
       "        text-align: right;\n",
       "    }\n",
       "</style>\n",
       "<table border=\"1\" class=\"dataframe\">\n",
       "  <thead>\n",
       "    <tr style=\"text-align: right;\">\n",
       "      <th></th>\n",
       "      <th>tconst</th>\n",
       "      <th>primary_title</th>\n",
       "      <th>original_title</th>\n",
       "      <th>start_year</th>\n",
       "      <th>runtime_minutes</th>\n",
       "      <th>genres</th>\n",
       "    </tr>\n",
       "  </thead>\n",
       "  <tbody>\n",
       "    <tr>\n",
       "      <th>count</th>\n",
       "      <td>146144</td>\n",
       "      <td>146144</td>\n",
       "      <td>146123</td>\n",
       "      <td>146144.000000</td>\n",
       "      <td>114405.000000</td>\n",
       "      <td>140736</td>\n",
       "    </tr>\n",
       "    <tr>\n",
       "      <th>unique</th>\n",
       "      <td>146144</td>\n",
       "      <td>136071</td>\n",
       "      <td>137773</td>\n",
       "      <td>NaN</td>\n",
       "      <td>NaN</td>\n",
       "      <td>1085</td>\n",
       "    </tr>\n",
       "    <tr>\n",
       "      <th>top</th>\n",
       "      <td>tt0063540</td>\n",
       "      <td>Home</td>\n",
       "      <td>Broken</td>\n",
       "      <td>NaN</td>\n",
       "      <td>NaN</td>\n",
       "      <td>Documentary</td>\n",
       "    </tr>\n",
       "    <tr>\n",
       "      <th>freq</th>\n",
       "      <td>1</td>\n",
       "      <td>24</td>\n",
       "      <td>19</td>\n",
       "      <td>NaN</td>\n",
       "      <td>NaN</td>\n",
       "      <td>32185</td>\n",
       "    </tr>\n",
       "    <tr>\n",
       "      <th>mean</th>\n",
       "      <td>NaN</td>\n",
       "      <td>NaN</td>\n",
       "      <td>NaN</td>\n",
       "      <td>2014.621798</td>\n",
       "      <td>86.187247</td>\n",
       "      <td>NaN</td>\n",
       "    </tr>\n",
       "    <tr>\n",
       "      <th>std</th>\n",
       "      <td>NaN</td>\n",
       "      <td>NaN</td>\n",
       "      <td>NaN</td>\n",
       "      <td>2.733583</td>\n",
       "      <td>166.360590</td>\n",
       "      <td>NaN</td>\n",
       "    </tr>\n",
       "    <tr>\n",
       "      <th>min</th>\n",
       "      <td>NaN</td>\n",
       "      <td>NaN</td>\n",
       "      <td>NaN</td>\n",
       "      <td>2010.000000</td>\n",
       "      <td>1.000000</td>\n",
       "      <td>NaN</td>\n",
       "    </tr>\n",
       "    <tr>\n",
       "      <th>25%</th>\n",
       "      <td>NaN</td>\n",
       "      <td>NaN</td>\n",
       "      <td>NaN</td>\n",
       "      <td>2012.000000</td>\n",
       "      <td>70.000000</td>\n",
       "      <td>NaN</td>\n",
       "    </tr>\n",
       "    <tr>\n",
       "      <th>50%</th>\n",
       "      <td>NaN</td>\n",
       "      <td>NaN</td>\n",
       "      <td>NaN</td>\n",
       "      <td>2015.000000</td>\n",
       "      <td>87.000000</td>\n",
       "      <td>NaN</td>\n",
       "    </tr>\n",
       "    <tr>\n",
       "      <th>75%</th>\n",
       "      <td>NaN</td>\n",
       "      <td>NaN</td>\n",
       "      <td>NaN</td>\n",
       "      <td>2017.000000</td>\n",
       "      <td>99.000000</td>\n",
       "      <td>NaN</td>\n",
       "    </tr>\n",
       "    <tr>\n",
       "      <th>max</th>\n",
       "      <td>NaN</td>\n",
       "      <td>NaN</td>\n",
       "      <td>NaN</td>\n",
       "      <td>2115.000000</td>\n",
       "      <td>51420.000000</td>\n",
       "      <td>NaN</td>\n",
       "    </tr>\n",
       "  </tbody>\n",
       "</table>\n",
       "</div>"
      ],
      "text/plain": [
       "           tconst primary_title original_title     start_year  \\\n",
       "count      146144        146144         146123  146144.000000   \n",
       "unique     146144        136071         137773            NaN   \n",
       "top     tt0063540          Home         Broken            NaN   \n",
       "freq            1            24             19            NaN   \n",
       "mean          NaN           NaN            NaN    2014.621798   \n",
       "std           NaN           NaN            NaN       2.733583   \n",
       "min           NaN           NaN            NaN    2010.000000   \n",
       "25%           NaN           NaN            NaN    2012.000000   \n",
       "50%           NaN           NaN            NaN    2015.000000   \n",
       "75%           NaN           NaN            NaN    2017.000000   \n",
       "max           NaN           NaN            NaN    2115.000000   \n",
       "\n",
       "        runtime_minutes       genres  \n",
       "count     114405.000000       140736  \n",
       "unique              NaN         1085  \n",
       "top                 NaN  Documentary  \n",
       "freq                NaN        32185  \n",
       "mean          86.187247          NaN  \n",
       "std          166.360590          NaN  \n",
       "min            1.000000          NaN  \n",
       "25%           70.000000          NaN  \n",
       "50%           87.000000          NaN  \n",
       "75%           99.000000          NaN  \n",
       "max        51420.000000          NaN  "
      ]
     },
     "execution_count": 4,
     "metadata": {},
     "output_type": "execute_result"
    }
   ],
   "source": [
    "## we want to know more about our data to describe all of the data regardless of its data type we shall pass a parameter include='al'\n",
    "### this is also one of the methods of checking for outliers\n",
    "title_basics.describe(include='all')"
   ]
  },
  {
   "cell_type": "code",
   "execution_count": 5,
   "metadata": {
    "scrolled": true
   },
   "outputs": [
    {
     "data": {
      "text/plain": [
       "tconst                 0\n",
       "primary_title          0\n",
       "original_title        21\n",
       "start_year             0\n",
       "runtime_minutes    31739\n",
       "genres              5408\n",
       "dtype: int64"
      ]
     },
     "execution_count": 5,
     "metadata": {},
     "output_type": "execute_result"
    }
   ],
   "source": [
    "# to find if our data has missing values ,there are two methods either using the dataframe.info() \n",
    "# the other method is by counting the sum of null values dataframe.isnull().sum() this is what we shall use\n",
    "title_basics.isnull().sum()"
   ]
  },
  {
   "cell_type": "markdown",
   "metadata": {},
   "source": [
    "<font color=green> We can see that some of our columns have missing data,these columns incude : <br>\n",
    "    *-original_title*<br>\n",
    "    *-runtime_minutes*<br>\n",
    "    *-genres*<br>\n",
    "  Let's go aheand and clean this values\n",
    "    "
   ]
  },
  {
   "cell_type": "markdown",
   "metadata": {},
   "source": [
    "### ii) Cleaning the missing values in our dataset"
   ]
  },
  {
   "cell_type": "code",
   "execution_count": 6,
   "metadata": {},
   "outputs": [],
   "source": [
    "### I am going to drop the missing values in the runtime_minutes\n",
    "#title_basics['runtime_minutes']=title_basics['runtime_minutes'].fillna(value=title_basics['runtime_minutes'].mean())\n",
    "title_basics['runtime_minutes']=title_basics['runtime_minutes'].fillna(value=0)"
   ]
  },
  {
   "cell_type": "code",
   "execution_count": 7,
   "metadata": {},
   "outputs": [],
   "source": [
    "### i am going to replace the values in the original title with the values in the primary title since they are the same\n",
    "title_basics['original_title']=title_basics['original_title'].fillna(value=title_basics['primary_title'])"
   ]
  },
  {
   "cell_type": "code",
   "execution_count": 8,
   "metadata": {},
   "outputs": [],
   "source": [
    "### I am going to replace the values in the missing values in the genre with unknown since the genre is unknown\n",
    "title_basics['genres']=title_basics['genres'].fillna(value='unknown')"
   ]
  },
  {
   "cell_type": "code",
   "execution_count": 9,
   "metadata": {
    "scrolled": true
   },
   "outputs": [
    {
     "data": {
      "text/plain": [
       "tconst             0\n",
       "primary_title      0\n",
       "original_title     0\n",
       "start_year         0\n",
       "runtime_minutes    0\n",
       "genres             0\n",
       "dtype: int64"
      ]
     },
     "execution_count": 9,
     "metadata": {},
     "output_type": "execute_result"
    }
   ],
   "source": [
    "##Lets check if our dataset still has missing values\n",
    "title_basics.isnull().sum()"
   ]
  },
  {
   "cell_type": "markdown",
   "metadata": {},
   "source": [
    "<font color=green> Now that our data has no missing values lets continue check if it has any duplicated values"
   ]
  },
  {
   "cell_type": "markdown",
   "metadata": {},
   "source": [
    "### iii)Checking for duplicates "
   ]
  },
  {
   "cell_type": "code",
   "execution_count": 10,
   "metadata": {},
   "outputs": [
    {
     "data": {
      "text/html": [
       "<div>\n",
       "<style scoped>\n",
       "    .dataframe tbody tr th:only-of-type {\n",
       "        vertical-align: middle;\n",
       "    }\n",
       "\n",
       "    .dataframe tbody tr th {\n",
       "        vertical-align: top;\n",
       "    }\n",
       "\n",
       "    .dataframe thead th {\n",
       "        text-align: right;\n",
       "    }\n",
       "</style>\n",
       "<table border=\"1\" class=\"dataframe\">\n",
       "  <thead>\n",
       "    <tr style=\"text-align: right;\">\n",
       "      <th></th>\n",
       "      <th>tconst</th>\n",
       "      <th>primary_title</th>\n",
       "      <th>original_title</th>\n",
       "      <th>start_year</th>\n",
       "      <th>runtime_minutes</th>\n",
       "      <th>genres</th>\n",
       "    </tr>\n",
       "  </thead>\n",
       "  <tbody>\n",
       "  </tbody>\n",
       "</table>\n",
       "</div>"
      ],
      "text/plain": [
       "Empty DataFrame\n",
       "Columns: [tconst, primary_title, original_title, start_year, runtime_minutes, genres]\n",
       "Index: []"
      ]
     },
     "execution_count": 10,
     "metadata": {},
     "output_type": "execute_result"
    }
   ],
   "source": [
    "duplicated=title_basics[title_basics.duplicated()]\n",
    "duplicated"
   ]
  },
  {
   "cell_type": "markdown",
   "metadata": {},
   "source": [
    "<font color=green> Our dataset does not have any duplicated values now lets check for any extraneous values"
   ]
  },
  {
   "cell_type": "markdown",
   "metadata": {},
   "source": [
    "### iv)Checking for outliers "
   ]
  },
  {
   "cell_type": "markdown",
   "metadata": {},
   "source": [
    "#### i)  Checking for outliers in column a: Runtimeminutes"
   ]
  },
  {
   "cell_type": "markdown",
   "metadata": {},
   "source": [
    "<font color=green> As you can see from the description of our data it seems like our runtime minutes and strt year may have outliers to confirm this for you I will plot a boxplot for our data ,boxplots is a nice way if visualizing for us data that has outliers</font>"
   ]
  },
  {
   "cell_type": "code",
   "execution_count": 11,
   "metadata": {
    "scrolled": false
   },
   "outputs": [
    {
     "data": {
      "text/plain": [
       "<AxesSubplot: xlabel='runtime_minutes'>"
      ]
     },
     "execution_count": 11,
     "metadata": {},
     "output_type": "execute_result"
    },
    {
     "data": {
      "image/png": "[encoded data removed]",
      "text/plain": [
       "<Figure size 640x480 with 1 Axes>"
      ]
     },
     "metadata": {},
     "output_type": "display_data"
    }
   ],
   "source": [
    "### We are using a boxplot to visualize our data and see if it has any outliers\n",
    "sns.boxplot(title_basics,x='runtime_minutes')"
   ]
  },
  {
   "cell_type": "markdown",
   "metadata": {},
   "source": [
    "<font color=green>You can clearly see tht some of our data are outliers for example their is a runtime minutes that is upto 5000.We want to clean this we can drop those minutes that are outliers</font>"
   ]
  },
  {
   "cell_type": "code",
   "execution_count": 12,
   "metadata": {
    "scrolled": true
   },
   "outputs": [],
   "source": [
    "### To find the outliers we find the lower quantile and upper quantile then Calculate the interquatile Range to find where the middle\n",
    "### fifty is Then find outliers by setting ourlimits to be 1.5*IQR of the upper and lower quartile\n",
    "### Then we remove the outliers from our dataset\n",
    "q1=title_basics['runtime_minutes'].quantile(0.25)\n",
    "q3=title_basics['runtime_minutes'].quantile(0.75)\n",
    "IQR=q3-q1\n",
    "title_basics= title_basics[~((title_basics['runtime_minutes']<(q1-1.5*IQR)) | (title_basics['runtime_minutes']>(q3+1.5*IQR)))]"
   ]
  },
  {
   "cell_type": "code",
   "execution_count": 13,
   "metadata": {
    "scrolled": false
   },
   "outputs": [
    {
     "data": {
      "text/plain": [
       "<AxesSubplot: xlabel='runtime_minutes'>"
      ]
     },
     "execution_count": 13,
     "metadata": {},
     "output_type": "execute_result"
    },
    {
     "data": {
      "image/png": "[encoded data removed]",
      "text/plain": [
       "<Figure size 640x480 with 1 Axes>"
      ]
     },
     "metadata": {},
     "output_type": "display_data"
    }
   ],
   "source": [
    "### We are using a boxplot to visualize our data and see if it has any outliers\n",
    "sns.boxplot(title_basics,x='runtime_minutes')"
   ]
  },
  {
   "cell_type": "markdown",
   "metadata": {},
   "source": [
    "<font color=green>Now, from the boxplot we can see that our data doesnt't have any  outliers</font>"
   ]
  },
  {
   "cell_type": "markdown",
   "metadata": {},
   "source": [
    "####  ii) checking for outliers in column b: start year"
   ]
  },
  {
   "cell_type": "code",
   "execution_count": 14,
   "metadata": {
    "scrolled": true
   },
   "outputs": [
    {
     "data": {
      "text/plain": [
       "<AxesSubplot: xlabel='start_year'>"
      ]
     },
     "execution_count": 14,
     "metadata": {},
     "output_type": "execute_result"
    },
    {
     "data": {
      "image/png": "[encoded data removed]",
      "text/plain": [
       "<Figure size 640x480 with 1 Axes>"
      ]
     },
     "metadata": {},
     "output_type": "display_data"
    }
   ],
   "source": [
    "## We are now plotting a boxplot to show us if our data has some outliers\n",
    "sns.boxplot(title_basics,x='start_year')"
   ]
  },
  {
   "cell_type": "code",
   "execution_count": 15,
   "metadata": {},
   "outputs": [],
   "source": [
    "### To find the outliers we find the lower quantile and upper quantile then Calculate the interquatile Range to find where the middle\n",
    "### fifty is Then find outliers by setting ourlimits to be 1.5*IQR of the upper and lower quartile\n",
    "### Then we remove the outliers from our dataset\n",
    "\n",
    "q1=title_basics['start_year'].quantile(0.25)\n",
    "q3=title_basics['start_year'].quantile(0.75)\n",
    "IQR=q3-q1\n",
    "title_basics = title_basics[~((title_basics['start_year']<(q1-1.5*IQR)) | (title_basics['start_year']>(q3+1.5*IQR)))]\n",
    "\n",
    "    "
   ]
  },
  {
   "cell_type": "code",
   "execution_count": 16,
   "metadata": {
    "scrolled": true
   },
   "outputs": [
    {
     "data": {
      "text/plain": [
       "<AxesSubplot: xlabel='start_year'>"
      ]
     },
     "execution_count": 16,
     "metadata": {},
     "output_type": "execute_result"
    },
    {
     "data": {
      "image/png": "[encoded data removed]",
      "text/plain": [
       "<Figure size 640x480 with 1 Axes>"
      ]
     },
     "metadata": {},
     "output_type": "display_data"
    }
   ],
   "source": [
    "## We are now plotting a boxplot to show us if our data has some outliers\n",
    "sns.boxplot(title_basics,x='start_year')"
   ]
  },
  {
   "cell_type": "markdown",
   "metadata": {},
   "source": [
    "<font color=green>Now, from the boxplot we can see that our data doesnt't have any  outliers</font>"
   ]
  },
  {
   "cell_type": "markdown",
   "metadata": {},
   "source": [
    "### v) Checking for extraneous values"
   ]
  },
  {
   "cell_type": "code",
   "execution_count": 17,
   "metadata": {
    "scrolled": false
   },
   "outputs": [
    {
     "name": "stdout",
     "output_type": "stream",
     "text": [
      "tconst \n",
      " tt0063540    0.000007\n",
      "tt5685710    0.000007\n",
      "tt5685466    0.000007\n",
      "tt5685518    0.000007\n",
      "tt5685536    0.000007\n",
      "Name: tconst, dtype: float64 \n",
      "\n",
      "primary_title \n",
      " Home          0.000165\n",
      "Broken        0.000137\n",
      "The Return    0.000137\n",
      "Homecoming    0.000110\n",
      "Alone         0.000110\n",
      "Name: primary_title, dtype: float64 \n",
      "\n",
      "original_title \n",
      " Broken        0.000130\n",
      "Home          0.000124\n",
      "The Return    0.000117\n",
      "Freedom       0.000089\n",
      "The Gift      0.000089\n",
      "Name: original_title, dtype: float64 \n",
      "\n",
      "start_year \n",
      " 2017    0.119742\n",
      "2016    0.118204\n",
      "2018    0.115273\n",
      "2015    0.111147\n",
      "2014    0.106664\n",
      "Name: start_year, dtype: float64 \n",
      "\n",
      "runtime_minutes \n",
      " 0.0      0.217866\n",
      "90.0     0.048955\n",
      "80.0     0.024207\n",
      "85.0     0.020012\n",
      "100.0    0.018275\n",
      "Name: runtime_minutes, dtype: float64 \n",
      "\n",
      "genres \n",
      " Documentary    0.219740\n",
      "Drama          0.147004\n",
      "Comedy         0.062899\n",
      "unknown        0.036969\n",
      "Horror         0.029987\n",
      "Name: genres, dtype: float64 \n",
      "\n"
     ]
    }
   ],
   "source": [
    "## we shall use value_counts to check for missing values that are hidden within our dataset\n",
    "for column in title_basics.columns:\n",
    "    print(column,'\\n', title_basics[column].value_counts(normalize=True).head(),'\\n')"
   ]
  },
  {
   "cell_type": "markdown",
   "metadata": {},
   "source": [
    "## 2)  Reading the second dataset"
   ]
  },
  {
   "cell_type": "markdown",
   "metadata": {},
   "source": [
    "### a) reading the imdb.title.ratings.csv"
   ]
  },
  {
   "cell_type": "code",
   "execution_count": 18,
   "metadata": {},
   "outputs": [
    {
     "data": {
      "text/html": [
       "<div>\n",
       "<style scoped>\n",
       "    .dataframe tbody tr th:only-of-type {\n",
       "        vertical-align: middle;\n",
       "    }\n",
       "\n",
       "    .dataframe tbody tr th {\n",
       "        vertical-align: top;\n",
       "    }\n",
       "\n",
       "    .dataframe thead th {\n",
       "        text-align: right;\n",
       "    }\n",
       "</style>\n",
       "<table border=\"1\" class=\"dataframe\">\n",
       "  <thead>\n",
       "    <tr style=\"text-align: right;\">\n",
       "      <th></th>\n",
       "      <th>tconst</th>\n",
       "      <th>averagerating</th>\n",
       "      <th>numvotes</th>\n",
       "    </tr>\n",
       "  </thead>\n",
       "  <tbody>\n",
       "    <tr>\n",
       "      <th>0</th>\n",
       "      <td>tt10356526</td>\n",
       "      <td>8.3</td>\n",
       "      <td>31</td>\n",
       "    </tr>\n",
       "    <tr>\n",
       "      <th>1</th>\n",
       "      <td>tt10384606</td>\n",
       "      <td>8.9</td>\n",
       "      <td>559</td>\n",
       "    </tr>\n",
       "    <tr>\n",
       "      <th>2</th>\n",
       "      <td>tt1042974</td>\n",
       "      <td>6.4</td>\n",
       "      <td>20</td>\n",
       "    </tr>\n",
       "    <tr>\n",
       "      <th>3</th>\n",
       "      <td>tt1043726</td>\n",
       "      <td>4.2</td>\n",
       "      <td>50352</td>\n",
       "    </tr>\n",
       "    <tr>\n",
       "      <th>4</th>\n",
       "      <td>tt1060240</td>\n",
       "      <td>6.5</td>\n",
       "      <td>21</td>\n",
       "    </tr>\n",
       "    <tr>\n",
       "      <th>...</th>\n",
       "      <td>...</td>\n",
       "      <td>...</td>\n",
       "      <td>...</td>\n",
       "    </tr>\n",
       "    <tr>\n",
       "      <th>73851</th>\n",
       "      <td>tt9805820</td>\n",
       "      <td>8.1</td>\n",
       "      <td>25</td>\n",
       "    </tr>\n",
       "    <tr>\n",
       "      <th>73852</th>\n",
       "      <td>tt9844256</td>\n",
       "      <td>7.5</td>\n",
       "      <td>24</td>\n",
       "    </tr>\n",
       "    <tr>\n",
       "      <th>73853</th>\n",
       "      <td>tt9851050</td>\n",
       "      <td>4.7</td>\n",
       "      <td>14</td>\n",
       "    </tr>\n",
       "    <tr>\n",
       "      <th>73854</th>\n",
       "      <td>tt9886934</td>\n",
       "      <td>7.0</td>\n",
       "      <td>5</td>\n",
       "    </tr>\n",
       "    <tr>\n",
       "      <th>73855</th>\n",
       "      <td>tt9894098</td>\n",
       "      <td>6.3</td>\n",
       "      <td>128</td>\n",
       "    </tr>\n",
       "  </tbody>\n",
       "</table>\n",
       "<p>73856 rows × 3 columns</p>\n",
       "</div>"
      ],
      "text/plain": [
       "           tconst  averagerating  numvotes\n",
       "0      tt10356526            8.3        31\n",
       "1      tt10384606            8.9       559\n",
       "2       tt1042974            6.4        20\n",
       "3       tt1043726            4.2     50352\n",
       "4       tt1060240            6.5        21\n",
       "...           ...            ...       ...\n",
       "73851   tt9805820            8.1        25\n",
       "73852   tt9844256            7.5        24\n",
       "73853   tt9851050            4.7        14\n",
       "73854   tt9886934            7.0         5\n",
       "73855   tt9894098            6.3       128\n",
       "\n",
       "[73856 rows x 3 columns]"
      ]
     },
     "execution_count": 18,
     "metadata": {},
     "output_type": "execute_result"
    }
   ],
   "source": [
    "### we are now reading reviews.tsv\n",
    "ratings_df=pd.read_csv(r\"C:\\Users\\Hp\\Downloads\\imdb.title.ratings.csv.gz\")\n",
    "ratings_df"
   ]
  },
  {
   "cell_type": "code",
   "execution_count": 19,
   "metadata": {},
   "outputs": [
    {
     "data": {
      "text/plain": [
       "(73856, 3)"
      ]
     },
     "execution_count": 19,
     "metadata": {},
     "output_type": "execute_result"
    }
   ],
   "source": [
    "## lets find the shape of the  ie the no of rows and columns\n",
    "ratings_df.shape"
   ]
  },
  {
   "cell_type": "code",
   "execution_count": 20,
   "metadata": {},
   "outputs": [
    {
     "data": {
      "text/html": [
       "<div>\n",
       "<style scoped>\n",
       "    .dataframe tbody tr th:only-of-type {\n",
       "        vertical-align: middle;\n",
       "    }\n",
       "\n",
       "    .dataframe tbody tr th {\n",
       "        vertical-align: top;\n",
       "    }\n",
       "\n",
       "    .dataframe thead th {\n",
       "        text-align: right;\n",
       "    }\n",
       "</style>\n",
       "<table border=\"1\" class=\"dataframe\">\n",
       "  <thead>\n",
       "    <tr style=\"text-align: right;\">\n",
       "      <th></th>\n",
       "      <th>tconst</th>\n",
       "      <th>averagerating</th>\n",
       "      <th>numvotes</th>\n",
       "    </tr>\n",
       "  </thead>\n",
       "  <tbody>\n",
       "    <tr>\n",
       "      <th>count</th>\n",
       "      <td>73856</td>\n",
       "      <td>73856.000000</td>\n",
       "      <td>7.385600e+04</td>\n",
       "    </tr>\n",
       "    <tr>\n",
       "      <th>unique</th>\n",
       "      <td>73856</td>\n",
       "      <td>NaN</td>\n",
       "      <td>NaN</td>\n",
       "    </tr>\n",
       "    <tr>\n",
       "      <th>top</th>\n",
       "      <td>tt10356526</td>\n",
       "      <td>NaN</td>\n",
       "      <td>NaN</td>\n",
       "    </tr>\n",
       "    <tr>\n",
       "      <th>freq</th>\n",
       "      <td>1</td>\n",
       "      <td>NaN</td>\n",
       "      <td>NaN</td>\n",
       "    </tr>\n",
       "    <tr>\n",
       "      <th>mean</th>\n",
       "      <td>NaN</td>\n",
       "      <td>6.332729</td>\n",
       "      <td>3.523662e+03</td>\n",
       "    </tr>\n",
       "    <tr>\n",
       "      <th>std</th>\n",
       "      <td>NaN</td>\n",
       "      <td>1.474978</td>\n",
       "      <td>3.029402e+04</td>\n",
       "    </tr>\n",
       "    <tr>\n",
       "      <th>min</th>\n",
       "      <td>NaN</td>\n",
       "      <td>1.000000</td>\n",
       "      <td>5.000000e+00</td>\n",
       "    </tr>\n",
       "    <tr>\n",
       "      <th>25%</th>\n",
       "      <td>NaN</td>\n",
       "      <td>5.500000</td>\n",
       "      <td>1.400000e+01</td>\n",
       "    </tr>\n",
       "    <tr>\n",
       "      <th>50%</th>\n",
       "      <td>NaN</td>\n",
       "      <td>6.500000</td>\n",
       "      <td>4.900000e+01</td>\n",
       "    </tr>\n",
       "    <tr>\n",
       "      <th>75%</th>\n",
       "      <td>NaN</td>\n",
       "      <td>7.400000</td>\n",
       "      <td>2.820000e+02</td>\n",
       "    </tr>\n",
       "    <tr>\n",
       "      <th>max</th>\n",
       "      <td>NaN</td>\n",
       "      <td>10.000000</td>\n",
       "      <td>1.841066e+06</td>\n",
       "    </tr>\n",
       "  </tbody>\n",
       "</table>\n",
       "</div>"
      ],
      "text/plain": [
       "            tconst  averagerating      numvotes\n",
       "count        73856   73856.000000  7.385600e+04\n",
       "unique       73856            NaN           NaN\n",
       "top     tt10356526            NaN           NaN\n",
       "freq             1            NaN           NaN\n",
       "mean           NaN       6.332729  3.523662e+03\n",
       "std            NaN       1.474978  3.029402e+04\n",
       "min            NaN       1.000000  5.000000e+00\n",
       "25%            NaN       5.500000  1.400000e+01\n",
       "50%            NaN       6.500000  4.900000e+01\n",
       "75%            NaN       7.400000  2.820000e+02\n",
       "max            NaN      10.000000  1.841066e+06"
      ]
     },
     "execution_count": 20,
     "metadata": {},
     "output_type": "execute_result"
    }
   ],
   "source": [
    "## lets describe the data  we pass the parameter include all so that it describes our data \n",
    "ratings_df.describe(include='all')"
   ]
  },
  {
   "cell_type": "code",
   "execution_count": 21,
   "metadata": {},
   "outputs": [
    {
     "data": {
      "text/plain": [
       "tconst           0\n",
       "averagerating    0\n",
       "numvotes         0\n",
       "dtype: int64"
      ]
     },
     "execution_count": 21,
     "metadata": {},
     "output_type": "execute_result"
    }
   ],
   "source": [
    "## lets describe the data  we pass the parameter include all so that it describes our data \n",
    "ratings_df.isnull().sum()"
   ]
  },
  {
   "cell_type": "markdown",
   "metadata": {},
   "source": [
    "<font color=green> We can see tha our data is clean hence no need of cleaning the data</font>\n",
    "    "
   ]
  },
  {
   "cell_type": "markdown",
   "metadata": {},
   "source": [
    "### b) Cleaning the values "
   ]
  },
  {
   "cell_type": "markdown",
   "metadata": {},
   "source": [
    "<font color=green> Now that our data has no missing values lets continue check if it has any duplicated values"
   ]
  },
  {
   "cell_type": "markdown",
   "metadata": {},
   "source": [
    "### c)Checking for duplicates "
   ]
  },
  {
   "cell_type": "code",
   "execution_count": 22,
   "metadata": {},
   "outputs": [
    {
     "data": {
      "text/html": [
       "<div>\n",
       "<style scoped>\n",
       "    .dataframe tbody tr th:only-of-type {\n",
       "        vertical-align: middle;\n",
       "    }\n",
       "\n",
       "    .dataframe tbody tr th {\n",
       "        vertical-align: top;\n",
       "    }\n",
       "\n",
       "    .dataframe thead th {\n",
       "        text-align: right;\n",
       "    }\n",
       "</style>\n",
       "<table border=\"1\" class=\"dataframe\">\n",
       "  <thead>\n",
       "    <tr style=\"text-align: right;\">\n",
       "      <th></th>\n",
       "      <th>tconst</th>\n",
       "      <th>averagerating</th>\n",
       "      <th>numvotes</th>\n",
       "    </tr>\n",
       "  </thead>\n",
       "  <tbody>\n",
       "  </tbody>\n",
       "</table>\n",
       "</div>"
      ],
      "text/plain": [
       "Empty DataFrame\n",
       "Columns: [tconst, averagerating, numvotes]\n",
       "Index: []"
      ]
     },
     "execution_count": 22,
     "metadata": {},
     "output_type": "execute_result"
    }
   ],
   "source": [
    "duplicated=ratings_df[ratings_df.duplicated()]\n",
    "duplicated"
   ]
  },
  {
   "cell_type": "markdown",
   "metadata": {},
   "source": [
    "<font color=green> Our dataset does not have any duplicated values now lets check for any extraneous values"
   ]
  },
  {
   "cell_type": "markdown",
   "metadata": {},
   "source": [
    "### d) Checking for extraneous values"
   ]
  },
  {
   "cell_type": "code",
   "execution_count": 23,
   "metadata": {
    "scrolled": true
   },
   "outputs": [
    {
     "name": "stdout",
     "output_type": "stream",
     "text": [
      "tconst \n",
      " tt0063540    0.000007\n",
      "tt5685710    0.000007\n",
      "tt5685466    0.000007\n",
      "tt5685518    0.000007\n",
      "tt5685536    0.000007\n",
      "Name: tconst, dtype: float64 \n",
      "\n",
      "primary_title \n",
      " Home          0.000165\n",
      "Broken        0.000137\n",
      "The Return    0.000137\n",
      "Homecoming    0.000110\n",
      "Alone         0.000110\n",
      "Name: primary_title, dtype: float64 \n",
      "\n",
      "original_title \n",
      " Broken        0.000130\n",
      "Home          0.000124\n",
      "The Return    0.000117\n",
      "Freedom       0.000089\n",
      "The Gift      0.000089\n",
      "Name: original_title, dtype: float64 \n",
      "\n",
      "start_year \n",
      " 2017    0.119742\n",
      "2016    0.118204\n",
      "2018    0.115273\n",
      "2015    0.111147\n",
      "2014    0.106664\n",
      "Name: start_year, dtype: float64 \n",
      "\n",
      "runtime_minutes \n",
      " 0.0      0.217866\n",
      "90.0     0.048955\n",
      "80.0     0.024207\n",
      "85.0     0.020012\n",
      "100.0    0.018275\n",
      "Name: runtime_minutes, dtype: float64 \n",
      "\n",
      "genres \n",
      " Documentary    0.219740\n",
      "Drama          0.147004\n",
      "Comedy         0.062899\n",
      "unknown        0.036969\n",
      "Horror         0.029987\n",
      "Name: genres, dtype: float64 \n",
      "\n"
     ]
    }
   ],
   "source": [
    "## we shall use value_counts to check for missing values that are hidden within our dataset\n",
    "for column in title_basics.columns:\n",
    "    print(column,'\\n', title_basics[column].value_counts(normalize=True).head(),'\\n')"
   ]
  },
  {
   "cell_type": "markdown",
   "metadata": {},
   "source": [
    "### e)Checking our dataset for outliers"
   ]
  },
  {
   "cell_type": "markdown",
   "metadata": {},
   "source": [
    "#### i) Checking for outliers in the column averagerating"
   ]
  },
  {
   "cell_type": "code",
   "execution_count": 24,
   "metadata": {
    "scrolled": false
   },
   "outputs": [
    {
     "data": {
      "text/plain": [
       "<AxesSubplot: ylabel='averagerating'>"
      ]
     },
     "execution_count": 24,
     "metadata": {},
     "output_type": "execute_result"
    },
    {
     "data": {
      "image/png": "[encoded data removed]",
      "text/plain": [
       "<Figure size 640x480 with 1 Axes>"
      ]
     },
     "metadata": {},
     "output_type": "display_data"
    }
   ],
   "source": [
    "# Using a boxplot to show if our dataset has outliers\n",
    "sns.boxplot(ratings_df,y='averagerating')"
   ]
  },
  {
   "cell_type": "code",
   "execution_count": 25,
   "metadata": {},
   "outputs": [],
   "source": [
    "## Removing outliers that lie out side 1.5*IQR +|- q1 and q3\n",
    "q1=ratings_df['averagerating'].quantile(0.25)\n",
    "q3=ratings_df['averagerating'].quantile(0.75)\n",
    "IQR=q3-q1\n",
    "ratings_df = ratings_df[~((ratings_df['averagerating']<(q1-1.5*IQR)) | (ratings_df['averagerating']>(q3+1.5*IQR)))]\n",
    "    "
   ]
  },
  {
   "cell_type": "code",
   "execution_count": 26,
   "metadata": {
    "scrolled": false
   },
   "outputs": [
    {
     "data": {
      "text/plain": [
       "<AxesSubplot: ylabel='averagerating'>"
      ]
     },
     "execution_count": 26,
     "metadata": {},
     "output_type": "execute_result"
    },
    {
     "data": {
      "image/png": "[encoded data removed]",
      "text/plain": [
       "<Figure size 640x480 with 1 Axes>"
      ]
     },
     "metadata": {},
     "output_type": "display_data"
    }
   ],
   "source": [
    "# Using a boxplot to show if our dataset has outliers\n",
    "sns.boxplot(ratings_df,y='averagerating')"
   ]
  },
  {
   "cell_type": "markdown",
   "metadata": {},
   "source": [
    "<font color=green>Now, from the boxplot we can see that our data doesnt't have any  outliers</font>"
   ]
  },
  {
   "cell_type": "markdown",
   "metadata": {},
   "source": [
    "#### ii)Checking for outliers in the column numvotes"
   ]
  },
  {
   "cell_type": "code",
   "execution_count": 27,
   "metadata": {
    "scrolled": true
   },
   "outputs": [
    {
     "data": {
      "text/plain": [
       "<AxesSubplot: ylabel='numvotes'>"
      ]
     },
     "execution_count": 27,
     "metadata": {},
     "output_type": "execute_result"
    },
    {
     "data": {
      "image/png": "[encoded data removed]",
      "text/plain": [
       "<Figure size 640x480 with 1 Axes>"
      ]
     },
     "metadata": {},
     "output_type": "display_data"
    }
   ],
   "source": [
    "# Using a boxplot to show if our dataset has outliers\n",
    "sns.boxplot(ratings_df,y='numvotes')"
   ]
  },
  {
   "cell_type": "code",
   "execution_count": 28,
   "metadata": {},
   "outputs": [],
   "source": [
    "## Removing outliers that lie out side 1.5*IQR +|- q1 and q3\n",
    "q1=ratings_df['numvotes'].quantile(0.25)\n",
    "q3=ratings_df['numvotes'].quantile(0.75)\n",
    "IQR=q3-q1\n",
    "ratings_df = ratings_df[~((ratings_df['numvotes']<(q1-1.5*IQR)) | (ratings_df['numvotes']>(q3+1.5*IQR)))]\n",
    "    "
   ]
  },
  {
   "cell_type": "code",
   "execution_count": 29,
   "metadata": {},
   "outputs": [
    {
     "data": {
      "text/plain": [
       "<AxesSubplot: ylabel='numvotes'>"
      ]
     },
     "execution_count": 29,
     "metadata": {},
     "output_type": "execute_result"
    },
    {
     "data": {
      "image/png": "[encoded data removed]",
      "text/plain": [
       "<Figure size 640x480 with 1 Axes>"
      ]
     },
     "metadata": {},
     "output_type": "display_data"
    }
   ],
   "source": [
    "# Using a boxplot to show if our datasets has any outliers\n",
    "sns.boxplot(ratings_df,y='numvotes')"
   ]
  },
  {
   "cell_type": "markdown",
   "metadata": {},
   "source": [
    "<font color=green>Now, from the boxplot we can see that our data doesnt't have any  outliers</font>"
   ]
  },
  {
   "cell_type": "markdown",
   "metadata": {},
   "source": [
    "<font color=purple> **Now that we are done with reading and cleaning our first two datasets, lets go ahead and analyse the data sets** </font>"
   ]
  },
  {
   "cell_type": "markdown",
   "metadata": {},
   "source": [
    "# 3) Analysing the ratings and title basic datasets"
   ]
  },
  {
   "cell_type": "markdown",
   "metadata": {},
   "source": [
    "#### a) Analysing the average rating column in the ratings_info "
   ]
  },
  {
   "cell_type": "code",
   "execution_count": 30,
   "metadata": {},
   "outputs": [
    {
     "name": "stdout",
     "output_type": "stream",
     "text": [
      "Mean : 6.436341890984156 ,median :6.6,standard deviation :1.4201702657583057\n"
     ]
    }
   ],
   "source": [
    "### calculating the mean of the column\n",
    "mean=ratings_df['averagerating'].mean()\n",
    "### calculating the median\n",
    "median=ratings_df['averagerating'].median()\n",
    "## calculating the standard deviation\n",
    "stadard_deviation=ratings_df['averagerating'].std()\n",
    "print('Mean : {} ,median :{},standard deviation :{}'.format(mean,median,stadard_deviation))"
   ]
  },
  {
   "cell_type": "code",
   "execution_count": 31,
   "metadata": {},
   "outputs": [
    {
     "data": {
      "text/plain": [
       "7.0     1871\n",
       "7.2     1838\n",
       "6.8     1838\n",
       "6.6     1835\n",
       "6.5     1790\n",
       "        ... \n",
       "10.0      16\n",
       "9.8       15\n",
       "9.6       15\n",
       "9.7       11\n",
       "9.9        5\n",
       "Name: averagerating, Length: 74, dtype: int64"
      ]
     },
     "execution_count": 31,
     "metadata": {},
     "output_type": "execute_result"
    }
   ],
   "source": [
    "### we shall create a frequency table for the column\n",
    "frequency_table=ratings_df['averagerating'].value_counts()\n",
    "frequency_table"
   ]
  },
  {
   "cell_type": "code",
   "execution_count": 32,
   "metadata": {},
   "outputs": [
    {
     "data": {
      "image/png": "[encoded data removed]",
      "text/plain": [
       "<Figure size 640x480 with 1 Axes>"
      ]
     },
     "metadata": {},
     "output_type": "display_data"
    }
   ],
   "source": [
    "## plotting a kde for the column\n",
    "import seaborn as sns\n",
    "\n",
    "sns.kdeplot(ratings_df['averagerating']);"
   ]
  },
  {
   "cell_type": "markdown",
   "metadata": {},
   "source": [
    "### b)Finding the genre's that have the most ratings"
   ]
  },
  {
   "cell_type": "markdown",
   "metadata": {},
   "source": [
    "<font color=green>*To find the genre's that have the most ratings we have to get the tables with the ratings and the table with the genres then combine the tables.The table with the rating is 'imdb.title.ratings.cs' and the table with the genres is 'imdb.title.basics.csv'* </font>"
   ]
  },
  {
   "cell_type": "code",
   "execution_count": 33,
   "metadata": {},
   "outputs": [
    {
     "data": {
      "text/html": [
       "<div>\n",
       "<style scoped>\n",
       "    .dataframe tbody tr th:only-of-type {\n",
       "        vertical-align: middle;\n",
       "    }\n",
       "\n",
       "    .dataframe tbody tr th {\n",
       "        vertical-align: top;\n",
       "    }\n",
       "\n",
       "    .dataframe thead th {\n",
       "        text-align: right;\n",
       "    }\n",
       "</style>\n",
       "<table border=\"1\" class=\"dataframe\">\n",
       "  <thead>\n",
       "    <tr style=\"text-align: right;\">\n",
       "      <th></th>\n",
       "      <th>tconst</th>\n",
       "      <th>averagerating</th>\n",
       "      <th>numvotes</th>\n",
       "    </tr>\n",
       "  </thead>\n",
       "  <tbody>\n",
       "    <tr>\n",
       "      <th>0</th>\n",
       "      <td>tt10356526</td>\n",
       "      <td>8.3</td>\n",
       "      <td>31</td>\n",
       "    </tr>\n",
       "    <tr>\n",
       "      <th>1</th>\n",
       "      <td>tt10384606</td>\n",
       "      <td>8.9</td>\n",
       "      <td>559</td>\n",
       "    </tr>\n",
       "    <tr>\n",
       "      <th>2</th>\n",
       "      <td>tt1042974</td>\n",
       "      <td>6.4</td>\n",
       "      <td>20</td>\n",
       "    </tr>\n",
       "    <tr>\n",
       "      <th>4</th>\n",
       "      <td>tt1060240</td>\n",
       "      <td>6.5</td>\n",
       "      <td>21</td>\n",
       "    </tr>\n",
       "    <tr>\n",
       "      <th>5</th>\n",
       "      <td>tt1069246</td>\n",
       "      <td>6.2</td>\n",
       "      <td>326</td>\n",
       "    </tr>\n",
       "    <tr>\n",
       "      <th>...</th>\n",
       "      <td>...</td>\n",
       "      <td>...</td>\n",
       "      <td>...</td>\n",
       "    </tr>\n",
       "    <tr>\n",
       "      <th>73851</th>\n",
       "      <td>tt9805820</td>\n",
       "      <td>8.1</td>\n",
       "      <td>25</td>\n",
       "    </tr>\n",
       "    <tr>\n",
       "      <th>73852</th>\n",
       "      <td>tt9844256</td>\n",
       "      <td>7.5</td>\n",
       "      <td>24</td>\n",
       "    </tr>\n",
       "    <tr>\n",
       "      <th>73853</th>\n",
       "      <td>tt9851050</td>\n",
       "      <td>4.7</td>\n",
       "      <td>14</td>\n",
       "    </tr>\n",
       "    <tr>\n",
       "      <th>73854</th>\n",
       "      <td>tt9886934</td>\n",
       "      <td>7.0</td>\n",
       "      <td>5</td>\n",
       "    </tr>\n",
       "    <tr>\n",
       "      <th>73855</th>\n",
       "      <td>tt9894098</td>\n",
       "      <td>6.3</td>\n",
       "      <td>128</td>\n",
       "    </tr>\n",
       "  </tbody>\n",
       "</table>\n",
       "<p>61037 rows × 3 columns</p>\n",
       "</div>"
      ],
      "text/plain": [
       "           tconst  averagerating  numvotes\n",
       "0      tt10356526            8.3        31\n",
       "1      tt10384606            8.9       559\n",
       "2       tt1042974            6.4        20\n",
       "4       tt1060240            6.5        21\n",
       "5       tt1069246            6.2       326\n",
       "...           ...            ...       ...\n",
       "73851   tt9805820            8.1        25\n",
       "73852   tt9844256            7.5        24\n",
       "73853   tt9851050            4.7        14\n",
       "73854   tt9886934            7.0         5\n",
       "73855   tt9894098            6.3       128\n",
       "\n",
       "[61037 rows x 3 columns]"
      ]
     },
     "execution_count": 33,
     "metadata": {},
     "output_type": "execute_result"
    }
   ],
   "source": [
    "ratings_df"
   ]
  },
  {
   "cell_type": "code",
   "execution_count": 34,
   "metadata": {},
   "outputs": [
    {
     "data": {
      "text/html": [
       "<div>\n",
       "<style scoped>\n",
       "    .dataframe tbody tr th:only-of-type {\n",
       "        vertical-align: middle;\n",
       "    }\n",
       "\n",
       "    .dataframe tbody tr th {\n",
       "        vertical-align: top;\n",
       "    }\n",
       "\n",
       "    .dataframe thead th {\n",
       "        text-align: right;\n",
       "    }\n",
       "</style>\n",
       "<table border=\"1\" class=\"dataframe\">\n",
       "  <thead>\n",
       "    <tr style=\"text-align: right;\">\n",
       "      <th></th>\n",
       "      <th>tconstTrue</th>\n",
       "      <th>primary_title</th>\n",
       "      <th>original_title</th>\n",
       "      <th>start_year</th>\n",
       "      <th>runtime_minutes</th>\n",
       "      <th>genres</th>\n",
       "      <th>tconst</th>\n",
       "      <th>averagerating</th>\n",
       "      <th>numvotes</th>\n",
       "    </tr>\n",
       "  </thead>\n",
       "  <tbody>\n",
       "    <tr>\n",
       "      <th>0</th>\n",
       "      <td>tt0063540</td>\n",
       "      <td>Sunghursh</td>\n",
       "      <td>Sunghursh</td>\n",
       "      <td>2013</td>\n",
       "      <td>175.0</td>\n",
       "      <td>Action,Crime,Drama</td>\n",
       "      <td>tt10356526</td>\n",
       "      <td>8.3</td>\n",
       "      <td>31</td>\n",
       "    </tr>\n",
       "    <tr>\n",
       "      <th>1</th>\n",
       "      <td>tt0066787</td>\n",
       "      <td>One Day Before the Rainy Season</td>\n",
       "      <td>Ashad Ka Ek Din</td>\n",
       "      <td>2019</td>\n",
       "      <td>114.0</td>\n",
       "      <td>Biography,Drama</td>\n",
       "      <td>tt10384606</td>\n",
       "      <td>8.9</td>\n",
       "      <td>559</td>\n",
       "    </tr>\n",
       "    <tr>\n",
       "      <th>2</th>\n",
       "      <td>tt0069049</td>\n",
       "      <td>The Other Side of the Wind</td>\n",
       "      <td>The Other Side of the Wind</td>\n",
       "      <td>2018</td>\n",
       "      <td>122.0</td>\n",
       "      <td>Drama</td>\n",
       "      <td>tt1042974</td>\n",
       "      <td>6.4</td>\n",
       "      <td>20</td>\n",
       "    </tr>\n",
       "    <tr>\n",
       "      <th>4</th>\n",
       "      <td>tt0100275</td>\n",
       "      <td>The Wandering Soap Opera</td>\n",
       "      <td>La Telenovela Errante</td>\n",
       "      <td>2017</td>\n",
       "      <td>80.0</td>\n",
       "      <td>Comedy,Drama,Fantasy</td>\n",
       "      <td>tt1060240</td>\n",
       "      <td>6.5</td>\n",
       "      <td>21</td>\n",
       "    </tr>\n",
       "    <tr>\n",
       "      <th>5</th>\n",
       "      <td>tt0111414</td>\n",
       "      <td>A Thin Life</td>\n",
       "      <td>A Thin Life</td>\n",
       "      <td>2018</td>\n",
       "      <td>75.0</td>\n",
       "      <td>Comedy</td>\n",
       "      <td>tt1069246</td>\n",
       "      <td>6.2</td>\n",
       "      <td>326</td>\n",
       "    </tr>\n",
       "    <tr>\n",
       "      <th>...</th>\n",
       "      <td>...</td>\n",
       "      <td>...</td>\n",
       "      <td>...</td>\n",
       "      <td>...</td>\n",
       "      <td>...</td>\n",
       "      <td>...</td>\n",
       "      <td>...</td>\n",
       "      <td>...</td>\n",
       "      <td>...</td>\n",
       "    </tr>\n",
       "    <tr>\n",
       "      <th>73851</th>\n",
       "      <td>tt4206656</td>\n",
       "      <td>MarchFourth Marching Band in China</td>\n",
       "      <td>MarchFourth Marching Band in China</td>\n",
       "      <td>2014</td>\n",
       "      <td>66.0</td>\n",
       "      <td>Documentary,Music</td>\n",
       "      <td>tt9805820</td>\n",
       "      <td>8.1</td>\n",
       "      <td>25</td>\n",
       "    </tr>\n",
       "    <tr>\n",
       "      <th>73852</th>\n",
       "      <td>tt4206658</td>\n",
       "      <td>El Bumbún</td>\n",
       "      <td>El Bumbún</td>\n",
       "      <td>2014</td>\n",
       "      <td>85.0</td>\n",
       "      <td>Drama</td>\n",
       "      <td>tt9844256</td>\n",
       "      <td>7.5</td>\n",
       "      <td>24</td>\n",
       "    </tr>\n",
       "    <tr>\n",
       "      <th>73853</th>\n",
       "      <td>tt4206724</td>\n",
       "      <td>70 Acres in Chicago: Cabrini Green</td>\n",
       "      <td>70 Acres in Chicago: Cabrini Green</td>\n",
       "      <td>2014</td>\n",
       "      <td>53.0</td>\n",
       "      <td>Documentary,History,News</td>\n",
       "      <td>tt9851050</td>\n",
       "      <td>4.7</td>\n",
       "      <td>14</td>\n",
       "    </tr>\n",
       "    <tr>\n",
       "      <th>73854</th>\n",
       "      <td>tt4207014</td>\n",
       "      <td>Amante de lo ajeno</td>\n",
       "      <td>Amante de lo ajeno</td>\n",
       "      <td>2012</td>\n",
       "      <td>99.0</td>\n",
       "      <td>Drama</td>\n",
       "      <td>tt9886934</td>\n",
       "      <td>7.0</td>\n",
       "      <td>5</td>\n",
       "    </tr>\n",
       "    <tr>\n",
       "      <th>73855</th>\n",
       "      <td>tt4207078</td>\n",
       "      <td>Nazar Palmus</td>\n",
       "      <td>Nazar Palmus</td>\n",
       "      <td>2016</td>\n",
       "      <td>0.0</td>\n",
       "      <td>Fantasy,Romance,Thriller</td>\n",
       "      <td>tt9894098</td>\n",
       "      <td>6.3</td>\n",
       "      <td>128</td>\n",
       "    </tr>\n",
       "  </tbody>\n",
       "</table>\n",
       "<p>60854 rows × 9 columns</p>\n",
       "</div>"
      ],
      "text/plain": [
       "      tconstTrue                       primary_title  \\\n",
       "0      tt0063540                           Sunghursh   \n",
       "1      tt0066787     One Day Before the Rainy Season   \n",
       "2      tt0069049          The Other Side of the Wind   \n",
       "4      tt0100275            The Wandering Soap Opera   \n",
       "5      tt0111414                         A Thin Life   \n",
       "...          ...                                 ...   \n",
       "73851  tt4206656  MarchFourth Marching Band in China   \n",
       "73852  tt4206658                           El Bumbún   \n",
       "73853  tt4206724  70 Acres in Chicago: Cabrini Green   \n",
       "73854  tt4207014                  Amante de lo ajeno   \n",
       "73855  tt4207078                        Nazar Palmus   \n",
       "\n",
       "                           original_title  start_year  runtime_minutes  \\\n",
       "0                               Sunghursh        2013            175.0   \n",
       "1                         Ashad Ka Ek Din        2019            114.0   \n",
       "2              The Other Side of the Wind        2018            122.0   \n",
       "4                   La Telenovela Errante        2017             80.0   \n",
       "5                             A Thin Life        2018             75.0   \n",
       "...                                   ...         ...              ...   \n",
       "73851  MarchFourth Marching Band in China        2014             66.0   \n",
       "73852                           El Bumbún        2014             85.0   \n",
       "73853  70 Acres in Chicago: Cabrini Green        2014             53.0   \n",
       "73854                  Amante de lo ajeno        2012             99.0   \n",
       "73855                        Nazar Palmus        2016              0.0   \n",
       "\n",
       "                         genres      tconst  averagerating  numvotes  \n",
       "0            Action,Crime,Drama  tt10356526            8.3        31  \n",
       "1               Biography,Drama  tt10384606            8.9       559  \n",
       "2                         Drama   tt1042974            6.4        20  \n",
       "4          Comedy,Drama,Fantasy   tt1060240            6.5        21  \n",
       "5                        Comedy   tt1069246            6.2       326  \n",
       "...                         ...         ...            ...       ...  \n",
       "73851         Documentary,Music   tt9805820            8.1        25  \n",
       "73852                     Drama   tt9844256            7.5        24  \n",
       "73853  Documentary,History,News   tt9851050            4.7        14  \n",
       "73854                     Drama   tt9886934            7.0         5  \n",
       "73855  Fantasy,Romance,Thriller   tt9894098            6.3       128  \n",
       "\n",
       "[60854 rows x 9 columns]"
      ]
     },
     "execution_count": 34,
     "metadata": {},
     "output_type": "execute_result"
    }
   ],
   "source": [
    "#combined_genre_rating=pd.merge(ratings_df,title_basics,on='tconst',how='inner')\n",
    "combined_genre_rating=title_basics.join(ratings_df,how='inner',lsuffix=True)\n",
    "combined_genre_rating"
   ]
  },
  {
   "cell_type": "code",
   "execution_count": 35,
   "metadata": {},
   "outputs": [
    {
     "data": {
      "text/html": [
       "<div>\n",
       "<style scoped>\n",
       "    .dataframe tbody tr th:only-of-type {\n",
       "        vertical-align: middle;\n",
       "    }\n",
       "\n",
       "    .dataframe tbody tr th {\n",
       "        vertical-align: top;\n",
       "    }\n",
       "\n",
       "    .dataframe thead th {\n",
       "        text-align: right;\n",
       "    }\n",
       "</style>\n",
       "<table border=\"1\" class=\"dataframe\">\n",
       "  <thead>\n",
       "    <tr style=\"text-align: right;\">\n",
       "      <th></th>\n",
       "      <th>Average_rating_per_genre</th>\n",
       "    </tr>\n",
       "    <tr>\n",
       "      <th>genres</th>\n",
       "      <th></th>\n",
       "    </tr>\n",
       "  </thead>\n",
       "  <tbody>\n",
       "    <tr>\n",
       "      <th>Animation,Mystery,Thriller</th>\n",
       "      <td>9.20</td>\n",
       "    </tr>\n",
       "    <tr>\n",
       "      <th>Adventure,Romance,Sport</th>\n",
       "      <td>9.00</td>\n",
       "    </tr>\n",
       "    <tr>\n",
       "      <th>Animation,Music,Romance</th>\n",
       "      <td>8.90</td>\n",
       "    </tr>\n",
       "    <tr>\n",
       "      <th>Family,Fantasy,Horror</th>\n",
       "      <td>8.80</td>\n",
       "    </tr>\n",
       "    <tr>\n",
       "      <th>Crime,Sci-Fi</th>\n",
       "      <td>8.80</td>\n",
       "    </tr>\n",
       "    <tr>\n",
       "      <th>Comedy,Sci-Fi,Western</th>\n",
       "      <td>8.70</td>\n",
       "    </tr>\n",
       "    <tr>\n",
       "      <th>Adventure,Drama,Musical</th>\n",
       "      <td>8.50</td>\n",
       "    </tr>\n",
       "    <tr>\n",
       "      <th>Crime,History,Horror</th>\n",
       "      <td>8.50</td>\n",
       "    </tr>\n",
       "    <tr>\n",
       "      <th>Animation,History,Musical</th>\n",
       "      <td>8.40</td>\n",
       "    </tr>\n",
       "    <tr>\n",
       "      <th>Adventure,Documentary,Sci-Fi</th>\n",
       "      <td>8.40</td>\n",
       "    </tr>\n",
       "    <tr>\n",
       "      <th>Biography,Comedy,Romance</th>\n",
       "      <td>8.40</td>\n",
       "    </tr>\n",
       "    <tr>\n",
       "      <th>Animation,Drama,War</th>\n",
       "      <td>8.30</td>\n",
       "    </tr>\n",
       "    <tr>\n",
       "      <th>Animation,Crime,Documentary</th>\n",
       "      <td>8.30</td>\n",
       "    </tr>\n",
       "    <tr>\n",
       "      <th>Adventure,Biography,Mystery</th>\n",
       "      <td>8.30</td>\n",
       "    </tr>\n",
       "    <tr>\n",
       "      <th>Documentary,Musical,News</th>\n",
       "      <td>8.30</td>\n",
       "    </tr>\n",
       "    <tr>\n",
       "      <th>Biography,Horror</th>\n",
       "      <td>8.20</td>\n",
       "    </tr>\n",
       "    <tr>\n",
       "      <th>Action,Music</th>\n",
       "      <td>8.20</td>\n",
       "    </tr>\n",
       "    <tr>\n",
       "      <th>Action,Romance,Sci-Fi</th>\n",
       "      <td>8.20</td>\n",
       "    </tr>\n",
       "    <tr>\n",
       "      <th>Music,Mystery,Romance</th>\n",
       "      <td>8.20</td>\n",
       "    </tr>\n",
       "    <tr>\n",
       "      <th>Biography,Documentary,Western</th>\n",
       "      <td>8.15</td>\n",
       "    </tr>\n",
       "  </tbody>\n",
       "</table>\n",
       "</div>"
      ],
      "text/plain": [
       "                               Average_rating_per_genre\n",
       "genres                                                 \n",
       "Animation,Mystery,Thriller                         9.20\n",
       "Adventure,Romance,Sport                            9.00\n",
       "Animation,Music,Romance                            8.90\n",
       "Family,Fantasy,Horror                              8.80\n",
       "Crime,Sci-Fi                                       8.80\n",
       "Comedy,Sci-Fi,Western                              8.70\n",
       "Adventure,Drama,Musical                            8.50\n",
       "Crime,History,Horror                               8.50\n",
       "Animation,History,Musical                          8.40\n",
       "Adventure,Documentary,Sci-Fi                       8.40\n",
       "Biography,Comedy,Romance                           8.40\n",
       "Animation,Drama,War                                8.30\n",
       "Animation,Crime,Documentary                        8.30\n",
       "Adventure,Biography,Mystery                        8.30\n",
       "Documentary,Musical,News                           8.30\n",
       "Biography,Horror                                   8.20\n",
       "Action,Music                                       8.20\n",
       "Action,Romance,Sci-Fi                              8.20\n",
       "Music,Mystery,Romance                              8.20\n",
       "Biography,Documentary,Western                      8.15"
      ]
     },
     "execution_count": 35,
     "metadata": {},
     "output_type": "execute_result"
    }
   ],
   "source": [
    "## now that we have our combined tables in the combined_genre_rating, we realize that we have columns that are not needed when\n",
    "## finding the most rated genres hence we group the genre and the average rating which is the data that we want\n",
    "## We also group each genre by its mean rating \n",
    "## to get the most rated genre's we sort our values using the Mean of the ratings of each genre from those with the highest mean\n",
    "## Those with the highest mean of rating means that the have most ratings\n",
    "\n",
    "grouped_genre=combined_genre_rating.groupby(['genres'])['averagerating'].agg([('Mean', 'mean')])\n",
    "grouped_genre=grouped_genre.sort_values(by='Mean',ascending=False)\n",
    "grouped_genre.head()\n",
    "grouped_genre=grouped_genre.rename(columns={'Mean':'Average_rating_per_genre'})\n",
    "grouped_genre.head(20)"
   ]
  },
  {
   "cell_type": "code",
   "execution_count": 36,
   "metadata": {},
   "outputs": [
    {
     "data": {
      "text/plain": [
       "Index(['genres', 'Average_rating_per_genre'], dtype='object')"
      ]
     },
     "execution_count": 36,
     "metadata": {},
     "output_type": "execute_result"
    }
   ],
   "source": [
    "## in order for us to work with the genres we msut reset the index so that the genres can be a column\n",
    "grouped=grouped_genre.reset_index()\n",
    "grouped.columns"
   ]
  },
  {
   "cell_type": "markdown",
   "metadata": {},
   "source": [
    "### c)Plotting a graph of the top5 genres against their average rating"
   ]
  },
  {
   "cell_type": "code",
   "execution_count": null,
   "metadata": {},
   "outputs": [],
   "source": [
    "### We can plot a scatter plot to show a plot of the top 5 genres against their average rating\n",
    "import matplotlib.pyplot as plt\n",
    "import seaborn as sns\n",
    "data2=grouped.head(5)\n",
    "sns.scatterplot(data=data2,x='genres',y='Average_rating_per_genre',s=100)\n",
    "sns.set(rc={'figure.figsize':(15,8)})\n",
    "sns.set(font_scale=2)\n"
   ]
  },
  {
   "cell_type": "markdown",
   "metadata": {},
   "source": [
    " From this analysis we can recommend Microsoft to focus more on the genres that have the highest ratings these genres include<br>\n",
    "<font color = purple> \n",
    "    -Animation,MyseryThriller<br>\n",
    "    -Adventure,Romance,Sport<br>\n",
    "    -Adventure,Music,Romance<br>\n",
    "    -Family,Fantasy,Horror <br>\n",
    "    -Comedy,Sci-Fi,Western\n",
    "    </font>\n",
    "<br>\n",
    "<br>"
   ]
  },
  {
   "cell_type": "markdown",
   "metadata": {},
   "source": [
    "## 4) Working With our third dataset"
   ]
  },
  {
   "cell_type": "markdown",
   "metadata": {},
   "source": [
    "<font color=green> We will load our '*tmdb.movies.csv*' in the **pandas.read_csv** and store it in a variable movie_budgets.\n",
    "We will describe the dataset,find it's shape, find if it has missing values, duplicated values or outliers.If the data has the misiing values,duplicates and outliers then we will clean the data</font>"
   ]
  },
  {
   "cell_type": "markdown",
   "metadata": {},
   "source": [
    "### a)Reading our dataset"
   ]
  },
  {
   "cell_type": "code",
   "execution_count": null,
   "metadata": {},
   "outputs": [],
   "source": [
    "movie_info=pd.read_csv(r\"C:\\Users\\Hp\\Downloads\\rt.movie_info.tsv.gz\",sep='\\t',encoding='latin1')\n",
    "movie_info"
   ]
  },
  {
   "cell_type": "code",
   "execution_count": null,
   "metadata": {},
   "outputs": [],
   "source": [
    "movie_info.shape"
   ]
  },
  {
   "cell_type": "code",
   "execution_count": null,
   "metadata": {
    "scrolled": true
   },
   "outputs": [],
   "source": [
    "## lets describe the data we pass the parameter include all so that it can describe our data regardless of it's data type\n",
    "movie_info.describe(include='all')"
   ]
  },
  {
   "cell_type": "code",
   "execution_count": null,
   "metadata": {
    "scrolled": true
   },
   "outputs": [],
   "source": [
    "#looking for missing values\n",
    "movie_info.isnull().sum()"
   ]
  },
  {
   "cell_type": "markdown",
   "metadata": {},
   "source": [
    "<font color=green> Now that our data has some missing values all the columns except the id column:<br>lets go ahead and clean</font>"
   ]
  },
  {
   "cell_type": "markdown",
   "metadata": {},
   "source": [
    "### b) Cleaning the missing values in our dataset"
   ]
  },
  {
   "cell_type": "code",
   "execution_count": null,
   "metadata": {},
   "outputs": [],
   "source": [
    "### this data has some missing values \n",
    "###Lets go ahead and clean the missing values\n",
    "## I will drop the studio, box office and currency column sice they have  a lot of missing data \n",
    "movie_info=movie_info.drop(['box_office','currency','studio'],axis=1)"
   ]
  },
  {
   "cell_type": "code",
   "execution_count": null,
   "metadata": {},
   "outputs": [],
   "source": [
    "### I will replace the rating with the mode since it is categorical data\n",
    "movie_info['rating'].fillna(value=movie_info['rating'].mode()[0],inplace=True)\n",
    "## I am replacing genre with unknown since we don't know the genre and using the mode would be wrong\n",
    "movie_info['genre'].fillna(value='unknown',inplace=True)\n",
    "## I am also replacing the director and writer with unknown since they are actually not known\n",
    "movie_info['director'].fillna(value='unknown',inplace=True)\n",
    "movie_info['writer'].fillna(value='unknown',inplace=True)\n",
    "## I am replacing the missing runtime with an unknown since it is not known\n",
    "movie_info['runtime'].fillna(value='unknown',inplace=True)\n",
    "movie_info['synopsis'].fillna(value='missing',inplace=True)\n",
    "movie_info['dvd_date'].fillna(value='unknown',inplace=True)\n",
    "movie_info['theater_date'].fillna(value='unknown',inplace=True)\n",
    "movie_info.isnull().sum()"
   ]
  },
  {
   "cell_type": "markdown",
   "metadata": {},
   "source": [
    "### c)Checking for duplicates "
   ]
  },
  {
   "cell_type": "code",
   "execution_count": null,
   "metadata": {},
   "outputs": [],
   "source": [
    "duplicated=movie_info[movie_info.duplicated()]\n",
    "duplicated"
   ]
  },
  {
   "cell_type": "markdown",
   "metadata": {},
   "source": [
    "<font color=green> Our dataset does not have any duplicated values now lets check for any extraneous values"
   ]
  },
  {
   "cell_type": "markdown",
   "metadata": {},
   "source": [
    "### d) Checking for extraneous values"
   ]
  },
  {
   "cell_type": "code",
   "execution_count": null,
   "metadata": {
    "scrolled": false
   },
   "outputs": [],
   "source": [
    "## we shall use value_counts to check for missing values that are hidden within our dataset\n",
    "for column in movie_info.columns:\n",
    "    print(column,'\\n', movie_info[column].value_counts(normalize=True).head(),'\\n')"
   ]
  },
  {
   "cell_type": "markdown",
   "metadata": {},
   "source": [
    "## b) Analysing the  movie_info"
   ]
  },
  {
   "cell_type": "markdown",
   "metadata": {},
   "source": [
    "#### i) Analysing the genre column in movie_info"
   ]
  },
  {
   "cell_type": "code",
   "execution_count": null,
   "metadata": {
    "scrolled": true
   },
   "outputs": [],
   "source": [
    "#Calculating the total number of each genre\n",
    "movie_info.rating.value_counts()"
   ]
  },
  {
   "cell_type": "markdown",
   "metadata": {},
   "source": [
    "## c) Plotting a graph of each genre and their value_counts"
   ]
  },
  {
   "cell_type": "code",
   "execution_count": null,
   "metadata": {},
   "outputs": [],
   "source": [
    "#plotting a bar graph for the genre against its total number of counts\n",
    "movie_info.rating.value_counts().plot(kind='bar')\n",
    "#sns.barplot(data=data)"
   ]
  },
  {
   "cell_type": "markdown",
   "metadata": {},
   "source": [
    "<font color= green> You can clearly see that the most watched rating is the **R** rating </font>"
   ]
  },
  {
   "cell_type": "markdown",
   "metadata": {},
   "source": [
    "## 5) Working with our fourth dataset"
   ]
  },
  {
   "cell_type": "markdown",
   "metadata": {},
   "source": [
    "### a) Reading the dataset"
   ]
  },
  {
   "cell_type": "code",
   "execution_count": null,
   "metadata": {
    "scrolled": true
   },
   "outputs": [],
   "source": [
    "tmdb_movies=pd.read_csv(r\"C:\\Users\\Hp\\Downloads\\tmdb.movies.csv.gz\")\n",
    "tmdb_movies"
   ]
  },
  {
   "cell_type": "code",
   "execution_count": null,
   "metadata": {},
   "outputs": [],
   "source": [
    "tmdb_movies.shape"
   ]
  },
  {
   "cell_type": "code",
   "execution_count": null,
   "metadata": {},
   "outputs": [],
   "source": [
    "tmdb_movies.describe(include='all')"
   ]
  },
  {
   "cell_type": "code",
   "execution_count": null,
   "metadata": {},
   "outputs": [],
   "source": [
    "### we shall also check for duplicated values\n",
    "duplicated=tmdb_movies[tmdb_movies.duplicated()]\n",
    "duplicated"
   ]
  },
  {
   "cell_type": "code",
   "execution_count": null,
   "metadata": {
    "scrolled": true
   },
   "outputs": [],
   "source": [
    "## Let us check if our data has null values\n",
    "tmdb_movies.isnull().sum()"
   ]
  },
  {
   "cell_type": "markdown",
   "metadata": {},
   "source": [
    "### b) Checking for duplicates in our dataset "
   ]
  },
  {
   "cell_type": "code",
   "execution_count": null,
   "metadata": {},
   "outputs": [],
   "source": [
    "duplicated=tmdb_movies[tmdb_movies.duplicated()]\n",
    "duplicated"
   ]
  },
  {
   "cell_type": "markdown",
   "metadata": {},
   "source": [
    "### c) Checking for extraneous values"
   ]
  },
  {
   "cell_type": "code",
   "execution_count": null,
   "metadata": {},
   "outputs": [],
   "source": [
    "# we shall use value_counts to check for missing values that are hidden within our dataset\n",
    "for column in tmdb_movies.columns:\n",
    "    print(column,'\\n',tmdb_movies[column].value_counts(normalize=True).head(),'\\n')"
   ]
  },
  {
   "cell_type": "markdown",
   "metadata": {},
   "source": [
    "## d)Checking for Outliers"
   ]
  },
  {
   "cell_type": "markdown",
   "metadata": {},
   "source": [
    "### i)Checking for outliers in popularity column"
   ]
  },
  {
   "cell_type": "code",
   "execution_count": null,
   "metadata": {
    "scrolled": false
   },
   "outputs": [],
   "source": [
    "## Plotting a boxplot to show if we have outliers in our dataset\n",
    "sns.boxplot(tmdb_movies,y='popularity')"
   ]
  },
  {
   "cell_type": "code",
   "execution_count": null,
   "metadata": {},
   "outputs": [],
   "source": [
    "## We want to set the upper limit to the summation of mean and 3times the standard deviation\n",
    "upper_limit = tmdb_movies['popularity'].mean() + 3*tmdb_movies['popularity'].std()\n",
    "print(upper_limit)\n",
    "## We want to set the lower limit to the subtraction of mean and 3times the standard deviation\n",
    "lower_limit = tmdb_movies['popularity'].mean() - 3*tmdb_movies['popularity'].std()\n",
    "print(lower_limit)    "
   ]
  },
  {
   "cell_type": "code",
   "execution_count": null,
   "metadata": {},
   "outputs": [],
   "source": [
    "tmdb_movies['popularity'] = np.where(tmdb_movies['popularity'] > upper_limit,\n",
    "\n",
    "upper_limit,\n",
    "np.where(tmdb_movies['popularity'] < lower_limit,lower_limit,tmdb_movies['popularity']))"
   ]
  },
  {
   "cell_type": "code",
   "execution_count": null,
   "metadata": {
    "scrolled": true
   },
   "outputs": [],
   "source": [
    "## Plotting a boxplot to show if we have outliers in our dataset\n",
    "sns.boxplot(tmdb_movies,y='popularity')"
   ]
  },
  {
   "cell_type": "markdown",
   "metadata": {},
   "source": [
    "### ii)checking for outliers in the voteaverage column"
   ]
  },
  {
   "cell_type": "code",
   "execution_count": null,
   "metadata": {
    "scrolled": false
   },
   "outputs": [],
   "source": [
    "## Plotting a boxplot to show if we have outliers in our dataset\n",
    "sns.boxplot(tmdb_movies,y='vote_average')"
   ]
  },
  {
   "cell_type": "code",
   "execution_count": null,
   "metadata": {},
   "outputs": [],
   "source": [
    "## Removing outliers that lie out side 1.5*IQR +|- q1 and q3\n",
    "\n",
    "q1=tmdb_movies['vote_average'].quantile(0.25)\n",
    "q3=tmdb_movies['vote_average'].quantile(0.75)\n",
    "IQR=q3-q1\n",
    "tmdb_movies = tmdb_movies[~((tmdb_movies['vote_average']<(q1-1.5*IQR)) | (tmdb_movies['vote_average']>(q3+1.5*IQR)))]\n",
    "\n",
    "    "
   ]
  },
  {
   "cell_type": "code",
   "execution_count": null,
   "metadata": {
    "scrolled": true
   },
   "outputs": [],
   "source": [
    "## Plotting a boxplot to show if we have outliers in our dataset\n",
    "sns.boxplot(tmdb_movies,y='vote_average')"
   ]
  },
  {
   "cell_type": "markdown",
   "metadata": {},
   "source": [
    "### iii)Checking for outliers in votecount column "
   ]
  },
  {
   "cell_type": "code",
   "execution_count": null,
   "metadata": {
    "scrolled": true
   },
   "outputs": [],
   "source": [
    "## Plotting a boxplot to show if we have outliers in our dataset\n",
    "sns.boxplot(tmdb_movies,y='vote_count')"
   ]
  },
  {
   "cell_type": "code",
   "execution_count": null,
   "metadata": {},
   "outputs": [],
   "source": [
    "## Removing outliers that lie out side 1.5*IQR +|- q1 and q3\n",
    "\n",
    "q1=tmdb_movies['vote_count'].quantile(0.25)\n",
    "q3=tmdb_movies['vote_count'].quantile(0.75)\n",
    "IQR=q3-q1\n",
    "tmdb_movies = tmdb_movies[~((tmdb_movies['vote_count']<(q1-1.5*IQR)) | (tmdb_movies['vote_count']>(q3+1.5*IQR)))]\n",
    "\n",
    "    "
   ]
  },
  {
   "cell_type": "code",
   "execution_count": null,
   "metadata": {
    "scrolled": true
   },
   "outputs": [],
   "source": [
    "## Plotting a boxplot to show if we have outliers in our dataset\n",
    "sns.boxplot(tmdb_movies,y='vote_count')"
   ]
  },
  {
   "cell_type": "markdown",
   "metadata": {},
   "source": [
    "### d) Finding out if there is a relationship between popularity and vote_average"
   ]
  },
  {
   "cell_type": "markdown",
   "metadata": {},
   "source": [
    "<font color=green>We might want to investigate if their is a relationship between popularity and vote_average.One might think that just because a film is popular it has a high number of votes ,to determine whether this is true or not lets find its correlation</font>"
   ]
  },
  {
   "cell_type": "code",
   "execution_count": null,
   "metadata": {},
   "outputs": [],
   "source": [
    "tmdb_movies['popularity'].corr(tmdb_movies['vote_average'])\n"
   ]
  },
  {
   "cell_type": "code",
   "execution_count": null,
   "metadata": {
    "scrolled": false
   },
   "outputs": [],
   "source": [
    "sns.scatterplot(data=tmdb_movies,x='vote_average',y='popularity');"
   ]
  },
  {
   "cell_type": "markdown",
   "metadata": {},
   "source": [
    "<font color=green> We can see that clearly the is no relationship between popularity and vote_average ,meaning that the just because a show is popular doesn't mean it is highly rated</font>"
   ]
  },
  {
   "cell_type": "markdown",
   "metadata": {},
   "source": [
    "## 6)Working with the fifth dataset"
   ]
  },
  {
   "cell_type": "markdown",
   "metadata": {},
   "source": [
    "### a)Reading the 'tn.movie_budgets.csv'"
   ]
  },
  {
   "cell_type": "markdown",
   "metadata": {},
   "source": [
    "<font color=green> We shall now work with the moview_budgets.csv where we can be able to even find out the amount of money that \n",
    "    microsoft should keep aside for the production of movies</font>"
   ]
  },
  {
   "cell_type": "code",
   "execution_count": null,
   "metadata": {},
   "outputs": [],
   "source": [
    "## reading the 'tn.movie_budgets.csv' and storing it in the variable movie_budgets\n",
    "movie_budgets=pd.read_csv(r\"C:\\Users\\Hp\\Downloads\\tn.movie_budgets.csv.gz\")\n",
    "movie_budgets"
   ]
  },
  {
   "cell_type": "code",
   "execution_count": null,
   "metadata": {},
   "outputs": [],
   "source": [
    "## Finding if our datset has null values\n",
    "movie_budgets.isnull().sum()"
   ]
  },
  {
   "cell_type": "code",
   "execution_count": null,
   "metadata": {
    "scrolled": true
   },
   "outputs": [],
   "source": [
    "### This is a way for checking out outliers but our data doesn't have outliers since only the id column has numerical values\n",
    "movie_budgets.describe(include='all')"
   ]
  },
  {
   "cell_type": "markdown",
   "metadata": {},
   "source": [
    "<font color=green>We can see that our dataset has no missing values lets go ahead and check for duplicates</font>"
   ]
  },
  {
   "cell_type": "markdown",
   "metadata": {},
   "source": [
    "### b)Checking for duplicates in our dataset"
   ]
  },
  {
   "cell_type": "code",
   "execution_count": null,
   "metadata": {},
   "outputs": [],
   "source": [
    "## checking for duplicated values in ourdataset\n",
    "duplicated=movie_budgets[movie_budgets.duplicated()]\n",
    "duplicated"
   ]
  },
  {
   "cell_type": "markdown",
   "metadata": {},
   "source": [
    "<font color=green>Our dataset has no duplicates hence lets check for extraneous values</font>"
   ]
  },
  {
   "cell_type": "markdown",
   "metadata": {},
   "source": [
    "### c) Checking for extraneous values"
   ]
  },
  {
   "cell_type": "code",
   "execution_count": null,
   "metadata": {
    "scrolled": false
   },
   "outputs": [],
   "source": [
    "## we shall use value_counts to check for missing values that are hidden within our dataset\n",
    "for column in movie_budgets.columns:\n",
    "    print(column,'\\n', movie_budgets[column].value_counts(normalize=True).head(),'\\n')\n",
    "    "
   ]
  },
  {
   "cell_type": "markdown",
   "metadata": {},
   "source": [
    "<font color=green> Our datasets does not have any extraneous values hence lets analyse the datset</font>"
   ]
  },
  {
   "cell_type": "markdown",
   "metadata": {},
   "source": [
    "\n",
    "<font color=green> From the reading of our datset you can be able to see that the columns **product_budget,domestic_budget and worldwide_gross** have dollar signs and are not in a datatype that will make it easier for calculations, hence lets remove the dollarsigns and change the data type </font>"
   ]
  },
  {
   "cell_type": "code",
   "execution_count": null,
   "metadata": {},
   "outputs": [],
   "source": [
    "## removing the dollar sign in the production_budget,domestic_gross and worldwide_gross columns\n",
    "movie_budgets['production_budget']=movie_budgets['production_budget'].map(lambda x:x[1:])\n",
    "movie_budgets['domestic_gross']=movie_budgets['domestic_gross'].map(lambda x:x[1:])\n",
    "movie_budgets['worldwide_gross']=movie_budgets['worldwide_gross'].map(lambda x:x[1:])"
   ]
  },
  {
   "cell_type": "code",
   "execution_count": null,
   "metadata": {},
   "outputs": [],
   "source": [
    "### removing the commas and changing the datatype of the columns product_budget,domestic_budget and worldwide_gross\n",
    "import string\n",
    "### a) production_budget column\n",
    "movie_budgets['production_budget']=movie_budgets['production_budget'].map(lambda x:x.strip(string.punctuation))\n",
    "movie_budgets['production_budget']=movie_budgets['production_budget'].str.replace(',','').astype(float)\n",
    "### b) domestic_gross column\n",
    "movie_budgets['domestic_gross']=movie_budgets['domestic_gross'].map(lambda x:x.strip(string.punctuation))\n",
    "movie_budgets['domestic_gross']=movie_budgets['domestic_gross'].str.replace(',','').astype(float)\n",
    "### c) worldwide_gross column\n",
    "movie_budgets['worldwide_gross']=movie_budgets['worldwide_gross'].map(lambda x:x.strip(string.punctuation))\n",
    "movie_budgets['worldwide_gross']=movie_budgets['worldwide_gross'].str.replace(',','').astype(float)\n",
    "\n",
    "### 1)so what basically is happenning is we are first removing the quatation marks and other punctuations within each cell value\n",
    "### using the x.strip(string.punctuation), x.strip removes  punctations in our valus\n",
    "### 2)What happens next is we are removing the comma separetor that separetes the digits in our value and replacing it with an \n",
    "### an empty factor using the str.replace"
   ]
  },
  {
   "cell_type": "code",
   "execution_count": null,
   "metadata": {
    "scrolled": true
   },
   "outputs": [],
   "source": [
    "### Now lets see if our dataset has changed\n",
    "movie_budgets"
   ]
  },
  {
   "cell_type": "markdown",
   "metadata": {},
   "source": [
    "## d) checking out for outliers "
   ]
  },
  {
   "cell_type": "code",
   "execution_count": null,
   "metadata": {
    "scrolled": false
   },
   "outputs": [],
   "source": [
    "movie_budgets.describe()"
   ]
  },
  {
   "cell_type": "markdown",
   "metadata": {},
   "source": [
    "#### I)Checking for outliers in production_budget"
   ]
  },
  {
   "cell_type": "code",
   "execution_count": null,
   "metadata": {
    "scrolled": true
   },
   "outputs": [],
   "source": [
    "## Plotting a boxplot to show if we have outliers in our dataset\n",
    "sns.boxplot(movie_budgets,y='production_budget')"
   ]
  },
  {
   "cell_type": "code",
   "execution_count": null,
   "metadata": {
    "scrolled": true
   },
   "outputs": [],
   "source": [
    "\n",
    "\n",
    "## Removing outliers that lie out side 1.5*IQR +|- q1 and q3\n",
    "\n",
    "q1=movie_budgets['production_budget'].quantile(0.25)\n",
    "q3=movie_budgets['production_budget'].quantile(0.75)\n",
    "IQR=q3-q1\n",
    "movie_budgets = movie_budgets[~((movie_budgets['production_budget']<(q1-1.5*IQR)) | (movie_budgets['production_budget']>(q3+1.5*IQR)))]\n",
    "\n",
    "    "
   ]
  },
  {
   "cell_type": "code",
   "execution_count": null,
   "metadata": {
    "scrolled": true
   },
   "outputs": [],
   "source": [
    "## Plotting a boxplot to show if we have outliers in our dataset\n",
    "sns.boxplot(movie_budgets,y='production_budget')"
   ]
  },
  {
   "cell_type": "markdown",
   "metadata": {},
   "source": [
    "#### ii)Checking for outliers in domestic_gross"
   ]
  },
  {
   "cell_type": "code",
   "execution_count": null,
   "metadata": {
    "scrolled": false
   },
   "outputs": [],
   "source": [
    "## Plotting a boxplot to show if we have outliers in our dataset\n",
    "sns.boxplot(movie_budgets,y='domestic_gross')"
   ]
  },
  {
   "cell_type": "code",
   "execution_count": null,
   "metadata": {
    "scrolled": true
   },
   "outputs": [],
   "source": [
    "## Removing outliers that lie out side 1.5*IQR +|- q1 and q3\n",
    "\n",
    "q1=movie_budgets['domestic_gross'].quantile(0.25)\n",
    "q3=movie_budgets['domestic_gross'].quantile(0.75)\n",
    "IQR=q3-q1\n",
    "movie_budgets = movie_budgets[~((movie_budgets['domestic_gross']<(q1-1.5*IQR)) | (movie_budgets['domestic_gross']>(q3+1.5*IQR)))]\n",
    "\n",
    "    "
   ]
  },
  {
   "cell_type": "code",
   "execution_count": null,
   "metadata": {
    "scrolled": false
   },
   "outputs": [],
   "source": [
    "## Plotting a boxplot to show if we have outliers in our dataset\n",
    "sns.boxplot(movie_budgets,y='domestic_gross')"
   ]
  },
  {
   "cell_type": "markdown",
   "metadata": {},
   "source": [
    "#### iii)Checking for outliers in worldwide_gross"
   ]
  },
  {
   "cell_type": "code",
   "execution_count": null,
   "metadata": {
    "scrolled": true
   },
   "outputs": [],
   "source": [
    "## Plotting a boxplot to show if we have outliers in our dataset\n",
    "sns.boxplot(movie_budgets,y='worldwide_gross')"
   ]
  },
  {
   "cell_type": "code",
   "execution_count": null,
   "metadata": {
    "scrolled": true
   },
   "outputs": [],
   "source": [
    "## Removing outliers that lie out side 1.5*IQR +|- q1 and q3\n",
    "q1=movie_budgets['worldwide_gross'].quantile(0.25)\n",
    "q3=movie_budgets['worldwide_gross'].quantile(0.75)\n",
    "IQR=q3-q1\n",
    "movie_budgets = movie_budgets[~((movie_budgets['worldwide_gross']<(q1-1.5*IQR)) | (movie_budgets['worldwide_gross']>(q3+1.5*IQR)))]\n",
    "\n",
    "    "
   ]
  },
  {
   "cell_type": "code",
   "execution_count": null,
   "metadata": {
    "scrolled": true
   },
   "outputs": [],
   "source": [
    "## Plotting a boxplot to show if we have outliers in our dataset\n",
    "sns.boxplot(movie_budgets,y='worldwide_gross')"
   ]
  },
  {
   "cell_type": "markdown",
   "metadata": {},
   "source": [
    "### e) Analysing the movie_budgets"
   ]
  },
  {
   "cell_type": "markdown",
   "metadata": {},
   "source": [
    "<font color=green> We can be able to find the amount of money that Microsoft could set aside for the production of a single movie by calculating the mean of the production_budgets column </font>"
   ]
  },
  {
   "cell_type": "code",
   "execution_count": null,
   "metadata": {},
   "outputs": [],
   "source": [
    "### Now we can be able to find the amount of money microsoft can  set aside for a movie production\n",
    "### to do this we find the mean of the production_budget\n",
    "maen_production_budget=movie_budgets['production_budget'].mean()\n",
    "maen_production_budget"
   ]
  },
  {
   "cell_type": "code",
   "execution_count": null,
   "metadata": {},
   "outputs": [],
   "source": [
    "domestic_profit=movie_budgets['domestic_gross'].mean()-movie_budgets['production_budget'].mean()\n",
    "domestic_profit"
   ]
  },
  {
   "cell_type": "code",
   "execution_count": null,
   "metadata": {},
   "outputs": [],
   "source": [
    "worldwide_profit=movie_budgets['worldwide_gross'].mean()-movie_budgets['production_budget'].mean()\n",
    "worldwide_profit"
   ]
  },
  {
   "cell_type": "markdown",
   "metadata": {},
   "source": [
    "### f) Finding the correlation between domestic_gross and worldwide_gross"
   ]
  },
  {
   "cell_type": "markdown",
   "metadata": {},
   "source": [
    "<font color=green>We can be able to find the relationship between worldwide_gross and domestic_gross columns</font>"
   ]
  },
  {
   "cell_type": "code",
   "execution_count": null,
   "metadata": {},
   "outputs": [],
   "source": [
    "movie_budgets['worldwide_gross'].corr(movie_budgets['domestic_gross'])"
   ]
  },
  {
   "cell_type": "markdown",
   "metadata": {},
   "source": [
    "<font color=green> We can see that the correlation between the two variables is 0.9388532353514973 which is a positive correlation, this means as domestic_gross increases the worldwide_gross also increases.We can also use a scatterplot to show these relationship</font> "
   ]
  },
  {
   "cell_type": "code",
   "execution_count": null,
   "metadata": {
    "scrolled": true
   },
   "outputs": [],
   "source": [
    "## We are using a scatter plot to show the relationship between domestic_gross and worldwide_gross\n",
    "sns.scatterplot(data=movie_budgets,x='domestic_gross',y='worldwide_gross');"
   ]
  },
  {
   "cell_type": "markdown",
   "metadata": {},
   "source": [
    "<font color=green> You can see that there is a positive relationship netween domestic gross and worldwide gross ,as the dometsic gross increases ,so does the world wide gross increase</font>"
   ]
  },
  {
   "cell_type": "markdown",
   "metadata": {},
   "source": [
    "### g) Finding the relationship between production_budget,domestic_gross and worldwide_gross"
   ]
  },
  {
   "cell_type": "markdown",
   "metadata": {},
   "source": [
    "<font color=green> We can be able to also find out whether the columns **production_budget,domestic_gross and worldwide_gross**have any relationship this is an example of multivariate analysis which is the analysis of multiple variables all at once we can find out wit either a correlation,scattermatrix,heatmap,pairplot,etc</font>"
   ]
  },
  {
   "cell_type": "code",
   "execution_count": null,
   "metadata": {},
   "outputs": [],
   "source": [
    "### lets start by finding the getting the columns we want ie production_budget,domestic_gross and worldwide_gross\n",
    "df_correlation=movie_budgets.iloc[:,3:]\n",
    "df_correlation"
   ]
  },
  {
   "cell_type": "code",
   "execution_count": null,
   "metadata": {},
   "outputs": [],
   "source": [
    "## Calculating the correlation\n",
    "df_correlation.corr()"
   ]
  },
  {
   "cell_type": "code",
   "execution_count": null,
   "metadata": {},
   "outputs": [],
   "source": [
    "### Plotting a SCatter matrix to show the correlation between production_budget,Domestic_gross and worldwide_gross\n",
    "pd.plotting.scatter_matrix(df_correlation,figsize=(15,10),alpha=0.5);"
   ]
  },
  {
   "cell_type": "markdown",
   "metadata": {},
   "source": [
    "<font color=green> We can see there is apositive correlation between domestic gross and worldwidegross.The correlation between worldwide gross and domesticgross to production_budget is a neutral correlation</font>"
   ]
  },
  {
   "cell_type": "markdown",
   "metadata": {},
   "source": [
    "# Conclusion "
   ]
  },
  {
   "cell_type": "markdown",
   "metadata": {},
   "source": [
    "\n",
    "From The analysis we have dine , we can conclude that:<br>\n",
    "<font color=green>\n",
    "a)  The popularity of a movie does not affect it average votes<br>\n",
    "b) If more money is used in the production of movies, the amount of money in the world wide gross increases more and slightly for the domestic gross.<br>\n",
    "c)The rating **R** has most number of ratings<br>\n",
    "d)The Genre Animation,MyseryThriller has most average ratings<br>\n",
    "e)Worldwide sale of movies has a lot of profit of **12080445.950397253**<br>\n",
    "f)The domestic sale of movies could amount to a loss of **-146686.587287955** <br>\n",
    "g)The amount of money they could set aside for the production of a movie could be close to **18234365.43525875**\n",
    "</font>"
   ]
  },
  {
   "cell_type": "markdown",
   "metadata": {},
   "source": [
    "# Recomendations"
   ]
  },
  {
   "cell_type": "markdown",
   "metadata": {},
   "source": [
    "I would recommend that<br>\n",
    "<font color=green>\n",
    "a)Microsoft should focus on the following genres of movies since they have most averagerating:<br>\n",
    "    <font color = purple> \n",
    "    -Animation,MyseryThriller<br>\n",
    "    -Adventure,Romance,Sport<br>\n",
    "    -Adventure,Music,Romance<br>\n",
    "    -Family,Fantasy,Horror <br>\n",
    "    -Comedy,Sci-Fi,Western\n",
    "    </font><br>\n",
    " b)Microsoft should produce more of the **R** rating movies<br>\n",
    " c)Microsoft should use more money in production since it could amount to more worldwide profits<br>\n",
    " d)Microsoft  should sell more of their movies worldwide since it colud amout to a profit of upto **12080445.950397253**<br>"
   ]
  },
  {
   "cell_type": "code",
   "execution_count": null,
   "metadata": {},
   "outputs": [],
   "source": []
  }
 ],
 "metadata": {
  "kernelspec": {
   "display_name": "Python 3 (ipykernel)",
   "language": "python",
   "name": "python3"
  },
  "language_info": {
   "codemirror_mode": {
    "name": "ipython",
    "version": 3
   },
   "file_extension": ".py",
   "mimetype": "text/x-python",
   "name": "python",
   "nbconvert_exporter": "python",
   "pygments_lexer": "ipython3",
   "version": "3.9.15"
  }
 },
 "nbformat": 4,
 "nbformat_minor": 2
}
